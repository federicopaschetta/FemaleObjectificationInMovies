{
 "cells": [
  {
   "cell_type": "markdown",
   "metadata": {},
   "source": [
    "## Importing libraries"
   ]
  },
  {
   "cell_type": "code",
   "execution_count": 237,
   "metadata": {},
   "outputs": [],
   "source": [
    "import pandas as pd # to store data efficiently\n",
    "import numpy as np # to handle numerical operations\n",
    "import random # to generate random numbers\n",
    "import os # to handle operations regarding file system\n",
    "import wget # to download locally images\n",
    "from ultralytics import YOLO # to import YOLO model\n",
    "from tqdm import tqdm # to visualize loop progressions\n",
    "import matplotlib.pyplot as plt # to create visualizations\n",
    "import cv2 # to handle images\n",
    "import re # to identify regu\n"
   ]
  },
  {
   "cell_type": "markdown",
   "metadata": {},
   "source": [
    "## Getting images list with people from COCO dataset"
   ]
  },
  {
   "cell_type": "code",
   "execution_count": null,
   "metadata": {},
   "outputs": [],
   "source": [
    "anns_df = pd.read_csv('./data/coco_diff/single_anns/person_anns.csv')"
   ]
  },
  {
   "cell_type": "code",
   "execution_count": null,
   "metadata": {},
   "outputs": [
    {
     "name": "stdout",
     "output_type": "stream",
     "text": [
      "58883\n"
     ]
    }
   ],
   "source": [
    "img_url_list = list(anns_df['img_url'].unique())\n",
    "print(len(img_url_list))"
   ]
  },
  {
   "cell_type": "markdown",
   "metadata": {},
   "source": [
    "## Random sampling from that list and download locally images"
   ]
  },
  {
   "cell_type": "code",
   "execution_count": null,
   "metadata": {},
   "outputs": [],
   "source": [
    "random.seed(24) # to use same collection of images\n",
    "img_sample = random.sample(img_url_list, 2000) "
   ]
  },
  {
   "cell_type": "markdown",
   "metadata": {},
   "source": [
    "### Downloads images inside list"
   ]
  },
  {
   "cell_type": "code",
   "execution_count": null,
   "metadata": {},
   "outputs": [
    {
     "name": "stderr",
     "output_type": "stream",
     "text": [
      "100%|██████████| 2000/2000 [00:00<00:00, 39635.09it/s]\n"
     ]
    }
   ],
   "source": [
    "# Changes cwd (to download image via wget in) and then changes it back\n",
    "old_cwd = os.getcwd()\n",
    "new_cwd = old_cwd+'/imgs'\n",
    "os.chdir(new_cwd)\n",
    "for url in tqdm(img_sample):\n",
    "    try:\n",
    "        file_name = url.split('/')[-1]\n",
    "        file_path = os.path.join(new_cwd, file_name)\n",
    "        \n",
    "        if not os.path.exists(file_path):\n",
    "            wget.download(url)\n",
    "    except Exception as e:\n",
    "        print(f\"\\nError in download of {url}: {e}\")\n",
    "os.chdir(old_cwd)"
   ]
  },
  {
   "cell_type": "code",
   "execution_count": null,
   "metadata": {},
   "outputs": [],
   "source": [
    "model = YOLO(\"./models/YOLO/yolo11n.pt\")"
   ]
  },
  {
   "cell_type": "code",
   "execution_count": null,
   "metadata": {},
   "outputs": [],
   "source": [
    "def predict_image_cropped(source: str, crop_part: str = None, crop_factor: int = None):\n",
    "    for filename in tqdm(os.listdir(source)):\n",
    "        if filename.endswith(('.jpg', 'jpeg', '.png')):  # Controlla che sia un file JPG\n",
    "            image_path = os.path.join(source, filename)\n",
    "            \n",
    "            # Carica l'immagine\n",
    "            image = cv2.imread(image_path)\n",
    "            \n",
    "            # Controlla che l'immagine sia stata caricata correttamente\n",
    "            if image is None:\n",
    "                print(f\"Error in image loading: {filename}\")\n",
    "                continue\n",
    "            if np.all(image[..., 0] == image[..., 1]) and np.all(image[..., 1] == image[..., 2]):\n",
    "                format = 'b&w'\n",
    "            else:\n",
    "                format = 'rgb'\n",
    "            \n",
    "            # Ottieni dimensioni dell'immagine\n",
    "            height, width, _ = image.shape\n",
    "            \n",
    "            # Calcola il ritaglio in base alla direzione e percentuale\n",
    "            if crop_part and crop_factor:\n",
    "                if crop_part == \"top\":\n",
    "                    cropped_image = image[:height * crop_factor // 100, :, :]\n",
    "                elif crop_part == \"side\":\n",
    "                    cropped_image = image[:, :width * crop_factor // 100, :]\n",
    "                else:\n",
    "                    print(f\"Invalid crop: {crop_part}. Use 'top' or 'side'.\")\n",
    "                    continue\n",
    "                input_image = cropped_image\n",
    "            else: \n",
    "                input_image = image\n",
    "            \n",
    "            # Predizione immediata per l'immagine ritagliata\n",
    "            result = model.predict(source=[input_image], verbose=False)\n",
    "            yield [result, image_path, format]  # Ritorna il risultato come stream     "
   ]
  },
  {
   "cell_type": "code",
   "execution_count": null,
   "metadata": {},
   "outputs": [],
   "source": [
    "df_names = ['All', 'Top25', 'Top50', 'Top75', 'Side25', 'Side50', 'Side75']"
   ]
  },
  {
   "cell_type": "markdown",
   "metadata": {},
   "source": [
    "### Get confidence score for both all and cropped images"
   ]
  },
  {
   "cell_type": "code",
   "execution_count": null,
   "metadata": {},
   "outputs": [],
   "source": [
    "def get_img_info(res, img_id: str, format: str, detection_list: list) -> None:\n",
    "    # Get mask for class 0\n",
    "        class_mask = res.boxes.cls == 0\n",
    "        \n",
    "        # Get all relevant data in one go\n",
    "        confidences = res.boxes.conf[class_mask]\n",
    "        dimensions = res.boxes.xywhn[class_mask]\n",
    "        \n",
    "        # Print results using zip to iterate both arrays simultaneously\n",
    "        for index, (conf, dim) in enumerate(zip(confidences, dimensions)):\n",
    "            detection_dict = {}  # Crea un nuovo dizionario per ogni rilevamento\n",
    "            detection_dict['Img_ID'] = img_id\n",
    "            detection_dict['Confidence'] = conf.item()\n",
    "            detection_dict['Dimensions'] = dim.tolist()\n",
    "            detection_dict['ID'] = f'{img_id}{index}'\n",
    "            detection_dict['Format'] = format\n",
    "            detection_list.append(detection_dict)\n",
    "        \n",
    "        # Add specific case if no person is detected\n",
    "        if len(confidences) == 0:\n",
    "            detection_dict = {  \n",
    "                'Img_ID': img_id,\n",
    "                'Confidence': 0,\n",
    "                'Dimensions': [],\n",
    "                'ID': img_id,\n",
    "                'Format': format\n",
    "            }\n",
    "            detection_list.append(detection_dict)"
   ]
  },
  {
   "cell_type": "code",
   "execution_count": null,
   "metadata": {},
   "outputs": [],
   "source": [
    "def confidence_score(result_img, cropped: bool = False) -> list:\n",
    "    detection_list = []\n",
    "    for res in result_img:\n",
    "        format = res[2]  # 'b&w' or 'rgb'\n",
    "        if cropped:\n",
    "            img_id = res[1].split('\\\\')[-1].strip('.jpg').lstrip('0')\n",
    "            res = res[0][0]\n",
    "        else:\n",
    "            img_id = res.path.split('\\\\')[-1].strip('.jpg').lstrip('0')\n",
    "        get_img_info(res, img_id, format, detection_list)\n",
    "    return detection_list\n"
   ]
  },
  {
   "cell_type": "code",
   "execution_count": null,
   "metadata": {},
   "outputs": [
    {
     "name": "stdout",
     "output_type": "stream",
     "text": [
      "All\n"
     ]
    },
    {
     "name": "stderr",
     "output_type": "stream",
     "text": [
      "100%|██████████| 2001/2001 [05:07<00:00,  6.50it/s]\n"
     ]
    },
    {
     "name": "stdout",
     "output_type": "stream",
     "text": [
      "Top25\n"
     ]
    },
    {
     "name": "stderr",
     "output_type": "stream",
     "text": [
      "100%|██████████| 2001/2001 [09:03<00:00,  3.68it/s]\n"
     ]
    },
    {
     "name": "stdout",
     "output_type": "stream",
     "text": [
      "Top50\n"
     ]
    },
    {
     "name": "stderr",
     "output_type": "stream",
     "text": [
      "100%|██████████| 2001/2001 [09:21<00:00,  3.57it/s] \n"
     ]
    },
    {
     "name": "stdout",
     "output_type": "stream",
     "text": [
      "Top75\n"
     ]
    },
    {
     "name": "stderr",
     "output_type": "stream",
     "text": [
      "100%|██████████| 2001/2001 [08:43<00:00,  3.82it/s]\n"
     ]
    },
    {
     "name": "stdout",
     "output_type": "stream",
     "text": [
      "Side25\n"
     ]
    },
    {
     "name": "stderr",
     "output_type": "stream",
     "text": [
      "100%|██████████| 2001/2001 [06:09<00:00,  5.41it/s]\n"
     ]
    },
    {
     "name": "stdout",
     "output_type": "stream",
     "text": [
      "Side50\n"
     ]
    },
    {
     "name": "stderr",
     "output_type": "stream",
     "text": [
      "100%|██████████| 2001/2001 [08:33<00:00,  3.90it/s]\n"
     ]
    },
    {
     "name": "stdout",
     "output_type": "stream",
     "text": [
      "Side75\n"
     ]
    },
    {
     "name": "stderr",
     "output_type": "stream",
     "text": [
      "100%|██████████| 2001/2001 [09:59<00:00,  3.34it/s]\n"
     ]
    }
   ],
   "source": [
    "img_source = './imgs'\n",
    "\n",
    "predicts_obj_list = []\n",
    "for name in df_names:\n",
    "    print(name)\n",
    "    if bool(re.search(r'\\d', name)):\n",
    "        direction = (name[:-2]).lower() or None # True se ci sono numeri, False altrimenti\n",
    "        crop_factor = int(name[-2:]) or None\n",
    "        predict_raw = list(predict_image_cropped(img_source, direction, crop_factor))\n",
    "    else:\n",
    "        predict_raw = list(predict_image_cropped(img_source))        \n",
    "    predicts_obj_list.append(confidence_score(predict_raw, cropped=True))\n"
   ]
  },
  {
   "cell_type": "code",
   "execution_count": null,
   "metadata": {},
   "outputs": [],
   "source": [
    "pred_df_list = []\n",
    "for obj, name in zip(predicts_obj_list, df_names):\n",
    "    df = pd.DataFrame(obj).set_index('ID')\n",
    "    df['x_center'] = df['Dimensions'].apply(lambda x: x[0] if x else np.nan)\n",
    "    df['y_center'] = df['Dimensions'].apply(lambda x: x[1] if x else np.nan)\n",
    "    df['width'] = df['Dimensions'].apply(lambda x: x[2] if x else np.nan)\n",
    "    df['height'] = df['Dimensions'].apply(lambda x: x[3] if x else np.nan)\n",
    "    df = df.drop(['Dimensions'], axis=1)\n",
    "    pred_df_list.append(df)\n",
    "    df.to_csv(f'./data/yolo_prediction/{name}.csv', index=True)"
   ]
  },
  {
   "cell_type": "code",
   "execution_count": null,
   "metadata": {},
   "outputs": [],
   "source": [
    "grouped_df = pred_df_list[0].groupby('Img_ID')[['Confidence']].mean()"
   ]
  },
  {
   "cell_type": "code",
   "execution_count": null,
   "metadata": {},
   "outputs": [
    {
     "data": {
      "image/png": "[encoded data removed]",
      "text/plain": [
       "<Figure size 640x480 with 1 Axes>"
      ]
     },
     "metadata": {},
     "output_type": "display_data"
    }
   ],
   "source": [
    "plt.boxplot(grouped_df)\n",
    "\n",
    "plt.title(\"Boxplot with all images\")\n",
    "plt.ylabel(\"Accuracy\")\n",
    "plt.show()"
   ]
  },
  {
   "cell_type": "code",
   "execution_count": null,
   "metadata": {},
   "outputs": [
    {
     "data": {
      "text/html": [
       "<div>\n",
       "<style scoped>\n",
       "    .dataframe tbody tr th:only-of-type {\n",
       "        vertical-align: middle;\n",
       "    }\n",
       "\n",
       "    .dataframe tbody tr th {\n",
       "        vertical-align: top;\n",
       "    }\n",
       "\n",
       "    .dataframe thead th {\n",
       "        text-align: right;\n",
       "    }\n",
       "</style>\n",
       "<table border=\"1\" class=\"dataframe\">\n",
       "  <thead>\n",
       "    <tr style=\"text-align: right;\">\n",
       "      <th></th>\n",
       "      <th>Img_ID</th>\n",
       "      <th>Confidence</th>\n",
       "      <th>Format</th>\n",
       "      <th>x_center</th>\n",
       "      <th>y_center</th>\n",
       "      <th>width</th>\n",
       "      <th>height</th>\n",
       "    </tr>\n",
       "    <tr>\n",
       "      <th>ID</th>\n",
       "      <th></th>\n",
       "      <th></th>\n",
       "      <th></th>\n",
       "      <th></th>\n",
       "      <th></th>\n",
       "      <th></th>\n",
       "      <th></th>\n",
       "    </tr>\n",
       "  </thead>\n",
       "  <tbody>\n",
       "    <tr>\n",
       "      <th>1319</th>\n",
       "      <td>1319</td>\n",
       "      <td>0.0</td>\n",
       "      <td>NaN</td>\n",
       "      <td>NaN</td>\n",
       "      <td>NaN</td>\n",
       "      <td>NaN</td>\n",
       "      <td>NaN</td>\n",
       "    </tr>\n",
       "    <tr>\n",
       "      <th>2555</th>\n",
       "      <td>2555</td>\n",
       "      <td>0.0</td>\n",
       "      <td>NaN</td>\n",
       "      <td>NaN</td>\n",
       "      <td>NaN</td>\n",
       "      <td>NaN</td>\n",
       "      <td>NaN</td>\n",
       "    </tr>\n",
       "    <tr>\n",
       "      <th>2764</th>\n",
       "      <td>2764</td>\n",
       "      <td>0.0</td>\n",
       "      <td>NaN</td>\n",
       "      <td>NaN</td>\n",
       "      <td>NaN</td>\n",
       "      <td>NaN</td>\n",
       "      <td>NaN</td>\n",
       "    </tr>\n",
       "    <tr>\n",
       "      <th>6662</th>\n",
       "      <td>6662</td>\n",
       "      <td>0.0</td>\n",
       "      <td>NaN</td>\n",
       "      <td>NaN</td>\n",
       "      <td>NaN</td>\n",
       "      <td>NaN</td>\n",
       "      <td>NaN</td>\n",
       "    </tr>\n",
       "    <tr>\n",
       "      <th>6789</th>\n",
       "      <td>6789</td>\n",
       "      <td>0.0</td>\n",
       "      <td>NaN</td>\n",
       "      <td>NaN</td>\n",
       "      <td>NaN</td>\n",
       "      <td>NaN</td>\n",
       "      <td>NaN</td>\n",
       "    </tr>\n",
       "    <tr>\n",
       "      <th>...</th>\n",
       "      <td>...</td>\n",
       "      <td>...</td>\n",
       "      <td>...</td>\n",
       "      <td>...</td>\n",
       "      <td>...</td>\n",
       "      <td>...</td>\n",
       "      <td>...</td>\n",
       "    </tr>\n",
       "    <tr>\n",
       "      <th>550834</th>\n",
       "      <td>550834</td>\n",
       "      <td>0.0</td>\n",
       "      <td>NaN</td>\n",
       "      <td>NaN</td>\n",
       "      <td>NaN</td>\n",
       "      <td>NaN</td>\n",
       "      <td>NaN</td>\n",
       "    </tr>\n",
       "    <tr>\n",
       "      <th>561390</th>\n",
       "      <td>561390</td>\n",
       "      <td>0.0</td>\n",
       "      <td>NaN</td>\n",
       "      <td>NaN</td>\n",
       "      <td>NaN</td>\n",
       "      <td>NaN</td>\n",
       "      <td>NaN</td>\n",
       "    </tr>\n",
       "    <tr>\n",
       "      <th>563947</th>\n",
       "      <td>563947</td>\n",
       "      <td>0.0</td>\n",
       "      <td>NaN</td>\n",
       "      <td>NaN</td>\n",
       "      <td>NaN</td>\n",
       "      <td>NaN</td>\n",
       "      <td>NaN</td>\n",
       "    </tr>\n",
       "    <tr>\n",
       "      <th>569618</th>\n",
       "      <td>569618</td>\n",
       "      <td>0.0</td>\n",
       "      <td>NaN</td>\n",
       "      <td>NaN</td>\n",
       "      <td>NaN</td>\n",
       "      <td>NaN</td>\n",
       "      <td>NaN</td>\n",
       "    </tr>\n",
       "    <tr>\n",
       "      <th>572884</th>\n",
       "      <td>572884</td>\n",
       "      <td>0.0</td>\n",
       "      <td>NaN</td>\n",
       "      <td>NaN</td>\n",
       "      <td>NaN</td>\n",
       "      <td>NaN</td>\n",
       "      <td>NaN</td>\n",
       "    </tr>\n",
       "  </tbody>\n",
       "</table>\n",
       "<p>171 rows × 7 columns</p>\n",
       "</div>"
      ],
      "text/plain": [
       "        Img_ID  Confidence Format  x_center  y_center  width  height\n",
       "ID                                                                  \n",
       "1319      1319         0.0    NaN       NaN       NaN    NaN     NaN\n",
       "2555      2555         0.0    NaN       NaN       NaN    NaN     NaN\n",
       "2764      2764         0.0    NaN       NaN       NaN    NaN     NaN\n",
       "6662      6662         0.0    NaN       NaN       NaN    NaN     NaN\n",
       "6789      6789         0.0    NaN       NaN       NaN    NaN     NaN\n",
       "...        ...         ...    ...       ...       ...    ...     ...\n",
       "550834  550834         0.0    NaN       NaN       NaN    NaN     NaN\n",
       "561390  561390         0.0    NaN       NaN       NaN    NaN     NaN\n",
       "563947  563947         0.0    NaN       NaN       NaN    NaN     NaN\n",
       "569618  569618         0.0    NaN       NaN       NaN    NaN     NaN\n",
       "572884  572884         0.0    NaN       NaN       NaN    NaN     NaN\n",
       "\n",
       "[171 rows x 7 columns]"
      ]
     },
     "execution_count": 236,
     "metadata": {},
     "output_type": "execute_result"
    }
   ],
   "source": [
    "df[(df['Confidence']==0)]"
   ]
  }
 ],
 "metadata": {
  "kernelspec": {
   "display_name": "objWoman",
   "language": "python",
   "name": "python3"
  },
  "language_info": {
   "codemirror_mode": {
    "name": "ipython",
    "version": 3
   },
   "file_extension": ".py",
   "mimetype": "text/x-python",
   "name": "python",
   "nbconvert_exporter": "python",
   "pygments_lexer": "ipython3",
   "version": "3.12.4"
  }
 },
 "nbformat": 4,
 "nbformat_minor": 2
}
