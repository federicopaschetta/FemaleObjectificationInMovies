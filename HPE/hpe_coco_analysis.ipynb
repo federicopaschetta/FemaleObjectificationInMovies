{
 "cells": [
  {
   "cell_type": "code",
   "execution_count": 235,
   "metadata": {},
   "outputs": [],
   "source": [
    "import pandas as pd\n",
    "import numpy as np\n",
    "import matplotlib.pyplot as plt\n",
    "import json\n",
    "import ast"
   ]
  },
  {
   "cell_type": "code",
   "execution_count": 236,
   "metadata": {},
   "outputs": [],
   "source": [
    "with open('COCO/keypoints.json', 'r') as f:\n",
    "    keypoints_list = json.load(f)"
   ]
  },
  {
   "cell_type": "code",
   "execution_count": 237,
   "metadata": {},
   "outputs": [],
   "source": [
    "hpe_attrs_list = ['nose', 'chest', 'right_shoulder', 'right_elbow', 'right_wrist', 'left_shoulder', 'left_elbow', \n",
    "              'left_wrist', 'right_hip', 'right_knee', 'right_ankle', 'left_hip', 'left_knee', 'left_ankle',\n",
    "              'right_eye', 'left_eye', 'right_ear', 'left_ear']"
   ]
  },
  {
   "cell_type": "code",
   "execution_count": 238,
   "metadata": {},
   "outputs": [],
   "source": [
    "coco_attrs_list = ['nose', 'left_eye', 'right_eye', 'left_ear', 'right_ear', 'left_shoulder', 'right_shoulder', 'left_elbow', 'right_elbow', 'left_wrist', \n",
    "                   'right_wrist', 'left_hip', 'right_hip', 'left_knee', 'right_knee', 'left_ankle', 'right_ankle']"
   ]
  },
  {
   "cell_type": "code",
   "execution_count": 239,
   "metadata": {},
   "outputs": [],
   "source": [
    "main_list = []\n",
    "for img in keypoints_list:\n",
    "    img_id = img['Img_ID']\n",
    "    for index, person in enumerate(img['people']):\n",
    "        person_obj = {}\n",
    "        person_obj['Img_ID'] = img_id\n",
    "        person_obj['ID'] = f'{img_id}{index+1}'\n",
    "        for i, attr in enumerate(hpe_attrs_list):\n",
    "            person_obj[f'{attr}_x'] = person[i]['x']\n",
    "            person_obj[f'{attr}_y'] = person[i]['y']\n",
    "            person_obj[f'{attr}_score'] = person[i]['score']\n",
    "        main_list.append(person_obj)"
   ]
  },
  {
   "cell_type": "code",
   "execution_count": 240,
   "metadata": {},
   "outputs": [],
   "source": [
    "main_df = pd.DataFrame(main_list)"
   ]
  },
  {
   "cell_type": "code",
   "execution_count": 241,
   "metadata": {},
   "outputs": [],
   "source": [
    "anns_df = pd.read_csv('../data/coco_diff/single_anns/person_anns.csv')\n",
    "img_list = set(main_df['Img_ID'])"
   ]
  },
  {
   "cell_type": "code",
   "execution_count": 242,
   "metadata": {},
   "outputs": [],
   "source": [
    "mini_anns_df = anns_df[anns_df['Img'].astype(str).isin(img_list)]\n",
    "mini_anns_df = mini_anns_df[['Img', 'person_num', 'num_people', 'keypoints', 'img_size', 'area_norm', 'offset', 'vis_face_ratio', 'vis_body_ratio', 'vis_extremities_ratio']]"
   ]
  },
  {
   "cell_type": "code",
   "execution_count": 243,
   "metadata": {},
   "outputs": [],
   "source": [
    "def keypoints_handling(row):\n",
    "    keypoints_list = ast.literal_eval(row['keypoints'])\n",
    "    for index, attr in enumerate(coco_attrs_list):\n",
    "        row[f'{attr}_x'] = keypoints_list[index*3]\n",
    "        row[f'{attr}_y'] = keypoints_list[index*3+1]\n",
    "        row[f'{attr}_v'] = keypoints_list[index*3+2]        \n",
    "    return row\n",
    "\n",
    "mini_anns_df = mini_anns_df.apply(keypoints_handling, axis=1)"
   ]
  }
 ],
 "metadata": {
  "kernelspec": {
   "display_name": "objWoman",
   "language": "python",
   "name": "python3"
  },
  "language_info": {
   "codemirror_mode": {
    "name": "ipython",
    "version": 3
   },
   "file_extension": ".py",
   "mimetype": "text/x-python",
   "name": "python",
   "nbconvert_exporter": "python",
   "pygments_lexer": "ipython3",
   "version": "3.12.4"
  }
 },
 "nbformat": 4,
 "nbformat_minor": 2
}
