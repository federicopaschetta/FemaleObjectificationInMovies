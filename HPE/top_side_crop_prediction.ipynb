{
 "cells": [
  {
   "cell_type": "code",
   "execution_count": 26,
   "metadata": {},
   "outputs": [],
   "source": [
    "import cv2\n",
    "from rtmlib import Wholebody, draw_skeleton\n",
    "import random\n",
    "import pandas as pd\n",
    "import os\n",
    "from tqdm import tqdm\n",
    "import wget\n",
    "import json\n",
    "from itertools import product"
   ]
  },
  {
   "cell_type": "code",
   "execution_count": 27,
   "metadata": {},
   "outputs": [],
   "source": [
    "device = 'cpu'  # cpu, cuda, mps\n",
    "backend = 'onnxruntime'  # opencv, onnxruntime, openvino"
   ]
  },
  {
   "cell_type": "code",
   "execution_count": 28,
   "metadata": {},
   "outputs": [],
   "source": [
    "anns_df = pd.read_csv('../data/coco_diff/single_anns/person_anns.csv')\n",
    "img_url_list = list(anns_df['img_url'].unique())\n",
    "random.seed(24) # to use same collection of images\n",
    "img_sample = random.sample(img_url_list, 2000)"
   ]
  },
  {
   "cell_type": "code",
   "execution_count": 29,
   "metadata": {},
   "outputs": [],
   "source": [
    "filepath_list = []"
   ]
  },
  {
   "cell_type": "code",
   "execution_count": 30,
   "metadata": {},
   "outputs": [],
   "source": [
    "img_source = \"../imgs\""
   ]
  },
  {
   "cell_type": "code",
   "execution_count": 31,
   "metadata": {},
   "outputs": [
    {
     "name": "stderr",
     "output_type": "stream",
     "text": [
      "100%|██████████| 2000/2000 [00:00<00:00, 54197.33it/s]\n"
     ]
    }
   ],
   "source": [
    "old_cwd = os.getcwd()\n",
    "new_cwd = os.path.dirname(old_cwd)+'/imgs'\n",
    "os.chdir(new_cwd)\n",
    "for url in tqdm(img_sample):\n",
    "    try:\n",
    "        file_name = url.split('/')[-1]\n",
    "        file_path = os.path.join(new_cwd, file_name)\n",
    "        filepath_list.append(file_path)\n",
    "        \n",
    "        if not os.path.exists(file_path):\n",
    "            wget.download(url)\n",
    "    except Exception as e:\n",
    "        print(f\"\\nError in download of {url}: {e}\")\n",
    "os.chdir(old_cwd)"
   ]
  },
  {
   "cell_type": "code",
   "execution_count": 32,
   "metadata": {},
   "outputs": [],
   "source": [
    "def crop_image(image, keep_percent, direction=None):\n",
    "    \"\"\"Crop the image based on keep_percent from the left or top.\"\"\"\n",
    "    h, w, _ = image.shape\n",
    "    if direction == \"side\":\n",
    "        cropped = image[:, :int(w * keep_percent)]\n",
    "    elif direction == \"top\":\n",
    "        cropped = image[:int(h * keep_percent), :]\n",
    "    else:\n",
    "        raise ValueError(\"Direction must be 'side' or 'top'.\")\n",
    "    return cropped"
   ]
  },
  {
   "cell_type": "code",
   "execution_count": 33,
   "metadata": {},
   "outputs": [
    {
     "name": "stdout",
     "output_type": "stream",
     "text": [
      "load C:\\Users\\fedep\\.cache\\rtmlib\\hub\\checkpoints\\yolox_m_8xb8-300e_humanart-c2c7a14a.onnx with onnxruntime backend\n",
      "load C:\\Users\\fedep\\.cache\\rtmlib\\hub\\checkpoints\\rtmw-x_simcc-cocktail13_pt-ucoco_270e-256x192-fbef0d61_20230925.onnx with onnxruntime backend\n"
     ]
    }
   ],
   "source": [
    "openpose_skeleton = True \n",
    "\n",
    "wholebody = Wholebody(to_openpose=openpose_skeleton,\n",
    "                      mode='balanced', \n",
    "                      backend=backend, device=device)"
   ]
  },
  {
   "cell_type": "code",
   "execution_count": 45,
   "metadata": {},
   "outputs": [
    {
     "name": "stderr",
     "output_type": "stream",
     "text": [
      "100%|██████████| 401/401 [57:24<00:00,  8.59s/it]  \n"
     ]
    }
   ],
   "source": [
    "percentages = [0.25, 0.50, 0.75]\n",
    "parts = [\"top\", \"side\"]\n",
    "keypoints_dict = {f\"{part}_{int(percent*100)}\": [] for part, percent in product(parts, percentages) }\n",
    "for filename in tqdm(list(os.listdir(img_source))):\n",
    "    if filename.endswith(('.jpg', '.jpeg', '.png')):\n",
    "        image_path = os.path.join(img_source, filename)  \n",
    "        image = cv2.imread(image_path)\n",
    "        \n",
    "        if image is None:\n",
    "            print(f\"Error in image loading: {filename}\")\n",
    "            continue\n",
    "\n",
    "        crops = {}\n",
    "\n",
    "        for percent in percentages:\n",
    "            crops[f\"side_{int(percent * 100)}\"] = crop_image(image, percent, \"side\")\n",
    "            crops[f\"top_{int(percent * 100)}\"] = crop_image(image, percent, \"top\")\n",
    "\n",
    "        img_id = filename.split('\\\\')[-1].strip('.jpg').lstrip('0')\n",
    "\n",
    "        for crop_type, cropped_image in (crops.items()):\n",
    "            keypoints, scores = wholebody(cropped_image)\n",
    "            frame_obj = {'Img_ID': f\"{img_id}\", 'people': []}\n",
    "            for index, (person_kp, person_score) in enumerate(zip(keypoints, scores)):\n",
    "                person_keypoints = [{\"x\": float(kp[0]), \"y\": float(kp[1]), \"score\": float(sc)} for kp, sc in zip(person_kp, person_score)]\n",
    "                frame_obj[\"people\"].append(person_keypoints)\n",
    "            keypoints_dict[f\"{crop_type}\"].append(frame_obj)"
   ]
  },
  {
   "cell_type": "code",
   "execution_count": 46,
   "metadata": {},
   "outputs": [],
   "source": [
    "with open(\"./COCO/keypoints_cropped.json\", \"w\") as f:\n",
    "    json.dump(keypoints_dict, f, indent=4)"
   ]
  }
 ],
 "metadata": {
  "kernelspec": {
   "display_name": "objWoman",
   "language": "python",
   "name": "python3"
  },
  "language_info": {
   "codemirror_mode": {
    "name": "ipython",
    "version": 3
   },
   "file_extension": ".py",
   "mimetype": "text/x-python",
   "name": "python",
   "nbconvert_exporter": "python",
   "pygments_lexer": "ipython3",
   "version": "3.12.4"
  }
 },
 "nbformat": 4,
 "nbformat_minor": 2
}
