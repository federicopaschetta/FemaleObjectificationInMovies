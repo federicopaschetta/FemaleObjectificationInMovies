{
 "cells": [
  {
   "cell_type": "code",
   "execution_count": 1,
   "metadata": {},
   "outputs": [],
   "source": [
    "import cv2\n",
    "from rtmlib import Wholebody, draw_skeleton\n",
    "import random\n",
    "import pandas as pd\n",
    "import os\n",
    "from tqdm import tqdm\n",
    "import wget\n",
    "import json"
   ]
  },
  {
   "cell_type": "code",
   "execution_count": 2,
   "metadata": {},
   "outputs": [],
   "source": [
    "device = 'cpu'  # cpu, cuda, mps\n",
    "backend = 'onnxruntime'  # opencv, onnxruntime, openvino\n",
    "img = cv2.imread('../imgs/000000004359.jpg')"
   ]
  },
  {
   "cell_type": "code",
   "execution_count": 7,
   "metadata": {},
   "outputs": [],
   "source": [
    "anns_df = pd.read_csv('data/coco_diff/single_anns/person_anns.csv')\n",
    "img_url_list = list(anns_df['img_url'].unique())\n",
    "random.seed(24) # to use same collection of images\n",
    "img_sample = random.sample(img_url_list, 2000)"
   ]
  },
  {
   "cell_type": "code",
   "execution_count": null,
   "metadata": {},
   "outputs": [],
   "source": [
    "old_cwd = os.getcwd()\n",
    "new_cwd = old_cwd+'/imgs'\n",
    "os.chdir(new_cwd)\n",
    "for url in tqdm(img_sample):\n",
    "    try:\n",
    "        file_name = url.split('/')[-1]\n",
    "        file_path = os.path.join(new_cwd, file_name)\n",
    "        \n",
    "        if not os.path.exists(file_path):\n",
    "            wget.download(url)\n",
    "    except Exception as e:\n",
    "        print(f\"\\nError in download of {url}: {e}\")\n",
    "os.chdir(old_cwd)"
   ]
  },
  {
   "cell_type": "code",
   "execution_count": 68,
   "metadata": {},
   "outputs": [],
   "source": [
    "img_source = './imgs'"
   ]
  },
  {
   "cell_type": "code",
   "execution_count": 69,
   "metadata": {},
   "outputs": [
    {
     "name": "stdout",
     "output_type": "stream",
     "text": [
      "load C:\\Users\\fedep\\.cache\\rtmlib\\hub\\checkpoints\\yolox_m_8xb8-300e_humanart-c2c7a14a.onnx with onnxruntime backend\n",
      "load C:\\Users\\fedep\\.cache\\rtmlib\\hub\\checkpoints\\rtmw-x_simcc-cocktail13_pt-ucoco_270e-256x192-fbef0d61_20230925.onnx with onnxruntime backend\n"
     ]
    },
    {
     "name": "stderr",
     "output_type": "stream",
     "text": [
      "100%|██████████| 2001/2001 [1:11:30<00:00,  2.14s/it] \n"
     ]
    }
   ],
   "source": [
    "openpose_skeleton = True \n",
    "\n",
    "wholebody = Wholebody(to_openpose=openpose_skeleton,\n",
    "                      mode='balanced', \n",
    "                      backend=backend, device=device)\n",
    "\n",
    "keypoints_list = []\n",
    "for filename in tqdm(os.listdir(img_source)):\n",
    "    if filename.endswith(('.jpg', '.jpeg', '.png')):\n",
    "        image_path = os.path.join(img_source, filename)  \n",
    "        image = cv2.imread(image_path)\n",
    "        \n",
    "        if image is None:\n",
    "            print(f\"Error in image loading: {filename}\")\n",
    "            continue\n",
    "\n",
    "    keypoints, scores = wholebody(image)\n",
    "    img_id = filename.split('\\\\')[-1].strip('.jpg').lstrip('0')\n",
    "    frame_obj = {'Img_ID': img_id, 'people': []}\n",
    "    for index, (person_kp, person_score) in enumerate(zip(keypoints, scores)):\n",
    "                    person_keypoints = [{\"x\": float(kp[0]), \"y\": float(kp[1]), \"score\": float(sc)} for kp, sc in zip(person_kp, person_score)]\n",
    "                    frame_obj[f\"people\"].append(person_keypoints)\n",
    "    keypoints_list.append(frame_obj)"
   ]
  },
  {
   "cell_type": "code",
   "execution_count": 70,
   "metadata": {},
   "outputs": [],
   "source": [
    "with open(\"HPE/COCO/keypoints.json\", \"w\") as f:\n",
    "    json.dump(keypoints_list, f, indent=4)"
   ]
  }
 ],
 "metadata": {
  "kernelspec": {
   "display_name": "objWoman",
   "language": "python",
   "name": "python3"
  },
  "language_info": {
   "codemirror_mode": {
    "name": "ipython",
    "version": 3
   },
   "file_extension": ".py",
   "mimetype": "text/x-python",
   "name": "python",
   "nbconvert_exporter": "python",
   "pygments_lexer": "ipython3",
   "version": "3.12.4"
  }
 },
 "nbformat": 4,
 "nbformat_minor": 2
}
