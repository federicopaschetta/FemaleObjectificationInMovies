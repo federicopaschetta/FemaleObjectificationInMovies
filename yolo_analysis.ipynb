{
 "cells": [
  {
   "cell_type": "code",
   "execution_count": 116,
   "metadata": {},
   "outputs": [
    {
     "name": "stdout",
     "output_type": "stream",
     "text": [
      "Requirement already satisfied: ultralytics in c:\\users\\fedep\\appdata\\local\\programs\\python\\python312\\lib\\site-packages (8.1.45)\n",
      "Requirement already satisfied: matplotlib>=3.3.0 in c:\\users\\fedep\\appdata\\roaming\\python\\python312\\site-packages (from ultralytics) (3.8.4)\n",
      "Requirement already satisfied: opencv-python>=4.6.0 in c:\\users\\fedep\\appdata\\local\\programs\\python\\python312\\lib\\site-packages (from ultralytics) (4.9.0.80)\n",
      "Requirement already satisfied: pillow>=7.1.2 in c:\\users\\fedep\\appdata\\local\\programs\\python\\python312\\lib\\site-packages (from ultralytics) (10.1.0)\n",
      "Requirement already satisfied: pyyaml>=5.3.1 in c:\\users\\fedep\\appdata\\local\\programs\\python\\python312\\lib\\site-packages (from ultralytics) (6.0.1)\n",
      "Requirement already satisfied: requests>=2.23.0 in c:\\users\\fedep\\appdata\\local\\programs\\python\\python312\\lib\\site-packages (from ultralytics) (2.31.0)\n",
      "Requirement already satisfied: scipy>=1.4.1 in c:\\users\\fedep\\appdata\\local\\programs\\python\\python312\\lib\\site-packages (from ultralytics) (1.11.3)\n",
      "Requirement already satisfied: torch>=1.8.0 in c:\\users\\fedep\\appdata\\local\\programs\\python\\python312\\lib\\site-packages (from ultralytics) (2.2.2)\n",
      "Requirement already satisfied: torchvision>=0.9.0 in c:\\users\\fedep\\appdata\\local\\programs\\python\\python312\\lib\\site-packages (from ultralytics) (0.17.2)\n",
      "Requirement already satisfied: tqdm>=4.64.0 in c:\\users\\fedep\\appdata\\local\\programs\\python\\python312\\lib\\site-packages (from ultralytics) (4.66.2)\n",
      "Requirement already satisfied: psutil in c:\\users\\fedep\\appdata\\roaming\\python\\python312\\site-packages (from ultralytics) (5.9.6)\n",
      "Requirement already satisfied: py-cpuinfo in c:\\users\\fedep\\appdata\\local\\programs\\python\\python312\\lib\\site-packages (from ultralytics) (9.0.0)\n",
      "Requirement already satisfied: thop>=0.1.1 in c:\\users\\fedep\\appdata\\local\\programs\\python\\python312\\lib\\site-packages (from ultralytics) (0.1.1.post2209072238)\n",
      "Requirement already satisfied: pandas>=1.1.4 in c:\\users\\fedep\\appdata\\local\\programs\\python\\python312\\lib\\site-packages (from ultralytics) (2.1.1)\n",
      "Requirement already satisfied: seaborn>=0.11.0 in c:\\users\\fedep\\appdata\\local\\programs\\python\\python312\\lib\\site-packages (from ultralytics) (0.13.2)\n",
      "Requirement already satisfied: contourpy>=1.0.1 in c:\\users\\fedep\\appdata\\local\\programs\\python\\python312\\lib\\site-packages (from matplotlib>=3.3.0->ultralytics) (1.2.0)\n",
      "Requirement already satisfied: cycler>=0.10 in c:\\users\\fedep\\appdata\\local\\programs\\python\\python312\\lib\\site-packages (from matplotlib>=3.3.0->ultralytics) (0.10.0)\n",
      "Requirement already satisfied: fonttools>=4.22.0 in c:\\users\\fedep\\appdata\\local\\programs\\python\\python312\\lib\\site-packages (from matplotlib>=3.3.0->ultralytics) (4.44.0)\n",
      "Requirement already satisfied: kiwisolver>=1.3.1 in c:\\users\\fedep\\appdata\\local\\programs\\python\\python312\\lib\\site-packages (from matplotlib>=3.3.0->ultralytics) (1.4.5)\n",
      "Requirement already satisfied: numpy>=1.21 in c:\\users\\fedep\\appdata\\local\\programs\\python\\python312\\lib\\site-packages (from matplotlib>=3.3.0->ultralytics) (1.26.4)\n",
      "Requirement already satisfied: packaging>=20.0 in c:\\users\\fedep\\appdata\\local\\programs\\python\\python312\\lib\\site-packages (from matplotlib>=3.3.0->ultralytics) (23.2)\n",
      "Requirement already satisfied: pyparsing>=2.3.1 in c:\\users\\fedep\\appdata\\local\\programs\\python\\python312\\lib\\site-packages (from matplotlib>=3.3.0->ultralytics) (3.1.1)\n",
      "Requirement already satisfied: python-dateutil>=2.7 in c:\\users\\fedep\\appdata\\roaming\\python\\python312\\site-packages (from matplotlib>=3.3.0->ultralytics) (2.8.2)\n",
      "Requirement already satisfied: pytz>=2020.1 in c:\\users\\fedep\\appdata\\local\\programs\\python\\python312\\lib\\site-packages (from pandas>=1.1.4->ultralytics) (2023.3.post1)\n",
      "Requirement already satisfied: tzdata>=2022.1 in c:\\users\\fedep\\appdata\\local\\programs\\python\\python312\\lib\\site-packages (from pandas>=1.1.4->ultralytics) (2023.3)\n",
      "Requirement already satisfied: charset-normalizer<4,>=2 in c:\\users\\fedep\\appdata\\local\\programs\\python\\python312\\lib\\site-packages (from requests>=2.23.0->ultralytics) (3.3.2)\n",
      "Requirement already satisfied: idna<4,>=2.5 in c:\\users\\fedep\\appdata\\local\\programs\\python\\python312\\lib\\site-packages (from requests>=2.23.0->ultralytics) (2.10)\n",
      "Requirement already satisfied: urllib3<3,>=1.21.1 in c:\\users\\fedep\\appdata\\local\\programs\\python\\python312\\lib\\site-packages (from requests>=2.23.0->ultralytics) (2.2.1)\n",
      "Requirement already satisfied: certifi>=2017.4.17 in c:\\users\\fedep\\appdata\\local\\programs\\python\\python312\\lib\\site-packages (from requests>=2.23.0->ultralytics) (2023.7.22)\n",
      "Requirement already satisfied: filelock in c:\\users\\fedep\\appdata\\local\\programs\\python\\python312\\lib\\site-packages (from torch>=1.8.0->ultralytics) (3.13.3)\n",
      "Requirement already satisfied: typing-extensions>=4.8.0 in c:\\users\\fedep\\appdata\\local\\programs\\python\\python312\\lib\\site-packages (from torch>=1.8.0->ultralytics) (4.10.0)\n",
      "Requirement already satisfied: sympy in c:\\users\\fedep\\appdata\\local\\programs\\python\\python312\\lib\\site-packages (from torch>=1.8.0->ultralytics) (1.12)\n",
      "Requirement already satisfied: networkx in c:\\users\\fedep\\appdata\\local\\programs\\python\\python312\\lib\\site-packages (from torch>=1.8.0->ultralytics) (3.2.1)\n",
      "Requirement already satisfied: jinja2 in c:\\users\\fedep\\appdata\\local\\programs\\python\\python312\\lib\\site-packages (from torch>=1.8.0->ultralytics) (3.1.3)\n",
      "Requirement already satisfied: fsspec in c:\\users\\fedep\\appdata\\local\\programs\\python\\python312\\lib\\site-packages (from torch>=1.8.0->ultralytics) (2024.3.1)\n",
      "Requirement already satisfied: colorama in c:\\users\\fedep\\appdata\\roaming\\python\\python312\\site-packages (from tqdm>=4.64.0->ultralytics) (0.4.6)\n",
      "Requirement already satisfied: six in c:\\users\\fedep\\appdata\\local\\programs\\python\\python312\\lib\\site-packages (from cycler>=0.10->matplotlib>=3.3.0->ultralytics) (1.16.0)\n",
      "Requirement already satisfied: MarkupSafe>=2.0 in c:\\users\\fedep\\appdata\\local\\programs\\python\\python312\\lib\\site-packages (from jinja2->torch>=1.8.0->ultralytics) (2.1.5)\n",
      "Requirement already satisfied: mpmath>=0.19 in c:\\users\\fedep\\appdata\\local\\programs\\python\\python312\\lib\\site-packages (from sympy->torch>=1.8.0->ultralytics) (1.3.0)\n"
     ]
    },
    {
     "name": "stderr",
     "output_type": "stream",
     "text": [
      "WARNING: Ignoring invalid distribution ~atplotlib (C:\\Users\\fedep\\AppData\\Local\\Programs\\Python\\Python312\\Lib\\site-packages)\n",
      "WARNING: Ignoring invalid distribution ~atplotlib (C:\\Users\\fedep\\AppData\\Local\\Programs\\Python\\Python312\\Lib\\site-packages)\n",
      "WARNING: Ignoring invalid distribution ~atplotlib (C:\\Users\\fedep\\AppData\\Local\\Programs\\Python\\Python312\\Lib\\site-packages)\n",
      "\n",
      "[notice] A new release of pip is available: 24.2 -> 24.3.1\n",
      "[notice] To update, run: python.exe -m pip install --upgrade pip\n"
     ]
    },
    {
     "name": "stdout",
     "output_type": "stream",
     "text": [
      "Requirement already satisfied: wget in c:\\users\\fedep\\appdata\\local\\programs\\python\\python312\\lib\\site-packages (3.2)\n"
     ]
    },
    {
     "name": "stderr",
     "output_type": "stream",
     "text": [
      "WARNING: Ignoring invalid distribution ~atplotlib (C:\\Users\\fedep\\AppData\\Local\\Programs\\Python\\Python312\\Lib\\site-packages)\n",
      "WARNING: Ignoring invalid distribution ~atplotlib (C:\\Users\\fedep\\AppData\\Local\\Programs\\Python\\Python312\\Lib\\site-packages)\n",
      "WARNING: Ignoring invalid distribution ~atplotlib (C:\\Users\\fedep\\AppData\\Local\\Programs\\Python\\Python312\\Lib\\site-packages)\n",
      "\n",
      "[notice] A new release of pip is available: 24.2 -> 24.3.1\n",
      "[notice] To update, run: python.exe -m pip install --upgrade pip\n"
     ]
    }
   ],
   "source": [
    "!pip install ultralytics\n",
    "!pip install wget"
   ]
  },
  {
   "cell_type": "code",
   "execution_count": 68,
   "metadata": {},
   "outputs": [],
   "source": [
    "from pycocotools.coco import COCO # wrapper to get data from coco dataset\n",
    "import skimage.io as io\n",
    "import matplotlib.pyplot as plt\n",
    "import pandas as pd\n",
    "import numpy as np\n",
    "import random\n",
    "import os\n",
    "import wget\n",
    "from ultralytics import YOLO\n"
   ]
  },
  {
   "cell_type": "code",
   "execution_count": 69,
   "metadata": {},
   "outputs": [],
   "source": [
    "df = pd.read_csv('person_anns.csv')"
   ]
  },
  {
   "cell_type": "code",
   "execution_count": 70,
   "metadata": {},
   "outputs": [
    {
     "name": "stdout",
     "output_type": "stream",
     "text": [
      "58884\n"
     ]
    }
   ],
   "source": [
    "img_url_list = list(df['img_url'].unique())\n",
    "print(len(img_url_list))"
   ]
  },
  {
   "cell_type": "code",
   "execution_count": 71,
   "metadata": {},
   "outputs": [
    {
     "name": "stdout",
     "output_type": "stream",
     "text": [
      "5\n"
     ]
    }
   ],
   "source": [
    "# random.seed(24)\n",
    "img_sample = random.sample(img_url_list, 5)\n",
    "print(len(img_sample))"
   ]
  },
  {
   "cell_type": "code",
   "execution_count": 72,
   "metadata": {},
   "outputs": [],
   "source": [
    "\n",
    "# Scarica tutte le immagini dalla lista\n",
    "old_cwd = os.getcwd()\n",
    "os.chdir(old_cwd+'/imgs')\n",
    "for url in img_sample:\n",
    "    try:\n",
    "        wget.download(url)\n",
    "    except Exception as e:\n",
    "        print(f\"\\nErrore nel download di {url}: {e}\")\n",
    "os.chdir(old_cwd)"
   ]
  },
  {
   "cell_type": "code",
   "execution_count": 100,
   "metadata": {},
   "outputs": [],
   "source": [
    "\n",
    "# Carica il modello pre-addestrato (puoi scegliere altri modelli come 'yolov8n.pt', 'yolov10.pt', ecc.)\n",
    "model = YOLO('yolov8n.pt')  # Usa il modello YOLOv8 Nano pre-addestrato\n"
   ]
  },
  {
   "cell_type": "code",
   "execution_count": 115,
   "metadata": {},
   "outputs": [
    {
     "data": {
      "text/plain": [
       "array(['http://images.cocodataset.org/train2017/000000067236.jpg'], dtype=object)"
      ]
     },
     "execution_count": 115,
     "metadata": {},
     "output_type": "execute_result"
    }
   ],
   "source": [
    "df[df['Img']==67236]['img_url'].unique()"
   ]
  },
  {
   "cell_type": "code",
   "execution_count": 109,
   "metadata": {},
   "outputs": [
    {
     "name": "stdout",
     "output_type": "stream",
     "text": [
      "\n",
      "image 1/15 c:\\Users\\fedep\\OneDrive\\Desktop\\Universita'\\Year 2\\PER\\FemaleObjectificationInMovies\\imgs\\000000067236.jpg: 640x448 1 person, 1 kite, 176.3ms\n",
      "image 2/15 c:\\Users\\fedep\\OneDrive\\Desktop\\Universita'\\Year 2\\PER\\FemaleObjectificationInMovies\\imgs\\000000074863.jpg: 640x448 2 persons, 4 cars, 2 umbrellas, 2 handbags, 1 keyboard, 193.4ms\n",
      "image 3/15 c:\\Users\\fedep\\OneDrive\\Desktop\\Universita'\\Year 2\\PER\\FemaleObjectificationInMovies\\imgs\\000000124615.jpg: 544x640 4 persons, 2 couchs, 4 remotes, 223.4ms\n",
      "image 4/15 c:\\Users\\fedep\\OneDrive\\Desktop\\Universita'\\Year 2\\PER\\FemaleObjectificationInMovies\\imgs\\000000128140.jpg: 640x448 1 person, 1 skis, 224.8ms\n",
      "image 5/15 c:\\Users\\fedep\\OneDrive\\Desktop\\Universita'\\Year 2\\PER\\FemaleObjectificationInMovies\\imgs\\000000198788.jpg: 448x640 2 persons, 1 tie, 1 knife, 1 cake, 1 chair, 1 dining table, 1 tv, 2 vases, 226.7ms\n",
      "image 6/15 c:\\Users\\fedep\\OneDrive\\Desktop\\Universita'\\Year 2\\PER\\FemaleObjectificationInMovies\\imgs\\000000226502.jpg: 448x640 1 person, 223.7ms\n",
      "image 7/15 c:\\Users\\fedep\\OneDrive\\Desktop\\Universita'\\Year 2\\PER\\FemaleObjectificationInMovies\\imgs\\000000234633.jpg: 480x640 2 persons, 1 boat, 8 birds, 170.7ms\n",
      "image 8/15 c:\\Users\\fedep\\OneDrive\\Desktop\\Universita'\\Year 2\\PER\\FemaleObjectificationInMovies\\imgs\\000000261521.jpg: 448x640 2 persons, 1 tie, 140.6ms\n",
      "image 9/15 c:\\Users\\fedep\\OneDrive\\Desktop\\Universita'\\Year 2\\PER\\FemaleObjectificationInMovies\\imgs\\000000327404.jpg: 640x480 4 persons, 2 cups, 1 donut, 1 chair, 1 dining table, 160.8ms\n",
      "image 10/15 c:\\Users\\fedep\\OneDrive\\Desktop\\Universita'\\Year 2\\PER\\FemaleObjectificationInMovies\\imgs\\000000360181.jpg: 640x480 3 persons, 2 cars, 1 traffic light, 2 skateboards, 182.7ms\n",
      "image 11/15 c:\\Users\\fedep\\OneDrive\\Desktop\\Universita'\\Year 2\\PER\\FemaleObjectificationInMovies\\imgs\\000000371427.jpg: 608x640 1 person, 1 dog, 1 horse, 239.0ms\n",
      "image 12/15 c:\\Users\\fedep\\OneDrive\\Desktop\\Universita'\\Year 2\\PER\\FemaleObjectificationInMovies\\imgs\\000000442945.jpg: 448x640 5 persons, 3 bicycles, 1 car, 1 bench, 220.5ms\n",
      "image 13/15 c:\\Users\\fedep\\OneDrive\\Desktop\\Universita'\\Year 2\\PER\\FemaleObjectificationInMovies\\imgs\\000000458598.jpg: 640x448 1 person, 1 skateboard, 160.1ms\n",
      "image 14/15 c:\\Users\\fedep\\OneDrive\\Desktop\\Universita'\\Year 2\\PER\\FemaleObjectificationInMovies\\imgs\\000000498651.jpg: 640x448 1 person, 1 tie, 135.6ms\n",
      "image 15/15 c:\\Users\\fedep\\OneDrive\\Desktop\\Universita'\\Year 2\\PER\\FemaleObjectificationInMovies\\imgs\\000000579594.jpg: 448x640 1 person, 1 tennis racket, 144.3ms\n",
      "Speed: 4.6ms preprocess, 188.2ms inference, 3.7ms postprocess per image at shape (1, 3, 448, 640)\n"
     ]
    }
   ],
   "source": [
    "# Esegui il rilevamento sugli oggetti\n",
    "# result = model.predict(source=\"./imgs/000000067236.jpg\", save=True)\n",
    "result = model.predict(source=\"./imgs\")"
   ]
  },
  {
   "cell_type": "code",
   "execution_count": null,
   "metadata": {},
   "outputs": [
    {
     "name": "stdout",
     "output_type": "stream",
     "text": [
      "Confidence:  0.8932355046272278\n"
     ]
    }
   ],
   "source": [
    "def confidence_score(result_img):\n",
    "    for res in result_img:\n",
    "        if res.boxes.cls[0].item() == 0:\n",
    "            print('Confidence: ', res.boxes.conf[0].item())"
   ]
  }
 ],
 "metadata": {
  "kernelspec": {
   "display_name": "Python 3",
   "language": "python",
   "name": "python3"
  },
  "language_info": {
   "codemirror_mode": {
    "name": "ipython",
    "version": 3
   },
   "file_extension": ".py",
   "mimetype": "text/x-python",
   "name": "python",
   "nbconvert_exporter": "python",
   "pygments_lexer": "ipython3",
   "version": "3.12.4"
  }
 },
 "nbformat": 4,
 "nbformat_minor": 2
}
