{
 "cells": [
  {
   "cell_type": "code",
   "execution_count": 3,
   "metadata": {},
   "outputs": [
    {
     "name": "stdout",
     "output_type": "stream",
     "text": [
      "Requirement already satisfied: ultralytics in c:\\users\\fedep\\appdata\\local\\programs\\python\\python312\\lib\\site-packages (8.1.45)\n",
      "Requirement already satisfied: matplotlib>=3.3.0 in c:\\users\\fedep\\appdata\\roaming\\python\\python312\\site-packages (from ultralytics) (3.8.4)\n",
      "Requirement already satisfied: opencv-python>=4.6.0 in c:\\users\\fedep\\appdata\\local\\programs\\python\\python312\\lib\\site-packages (from ultralytics) (4.9.0.80)\n",
      "Requirement already satisfied: pillow>=7.1.2 in c:\\users\\fedep\\appdata\\local\\programs\\python\\python312\\lib\\site-packages (from ultralytics) (10.1.0)\n",
      "Requirement already satisfied: pyyaml>=5.3.1 in c:\\users\\fedep\\appdata\\local\\programs\\python\\python312\\lib\\site-packages (from ultralytics) (6.0.1)\n",
      "Requirement already satisfied: requests>=2.23.0 in c:\\users\\fedep\\appdata\\local\\programs\\python\\python312\\lib\\site-packages (from ultralytics) (2.31.0)\n",
      "Requirement already satisfied: scipy>=1.4.1 in c:\\users\\fedep\\appdata\\local\\programs\\python\\python312\\lib\\site-packages (from ultralytics) (1.11.3)\n",
      "Requirement already satisfied: torch>=1.8.0 in c:\\users\\fedep\\appdata\\local\\programs\\python\\python312\\lib\\site-packages (from ultralytics) (2.2.2)\n",
      "Requirement already satisfied: torchvision>=0.9.0 in c:\\users\\fedep\\appdata\\local\\programs\\python\\python312\\lib\\site-packages (from ultralytics) (0.17.2)\n",
      "Requirement already satisfied: tqdm>=4.64.0 in c:\\users\\fedep\\appdata\\local\\programs\\python\\python312\\lib\\site-packages (from ultralytics) (4.66.2)\n",
      "Requirement already satisfied: psutil in c:\\users\\fedep\\appdata\\roaming\\python\\python312\\site-packages (from ultralytics) (5.9.6)\n",
      "Requirement already satisfied: py-cpuinfo in c:\\users\\fedep\\appdata\\local\\programs\\python\\python312\\lib\\site-packages (from ultralytics) (9.0.0)\n",
      "Requirement already satisfied: thop>=0.1.1 in c:\\users\\fedep\\appdata\\local\\programs\\python\\python312\\lib\\site-packages (from ultralytics) (0.1.1.post2209072238)\n",
      "Requirement already satisfied: pandas>=1.1.4 in c:\\users\\fedep\\appdata\\local\\programs\\python\\python312\\lib\\site-packages (from ultralytics) (2.1.1)\n",
      "Requirement already satisfied: seaborn>=0.11.0 in c:\\users\\fedep\\appdata\\local\\programs\\python\\python312\\lib\\site-packages (from ultralytics) (0.13.2)\n",
      "Requirement already satisfied: contourpy>=1.0.1 in c:\\users\\fedep\\appdata\\local\\programs\\python\\python312\\lib\\site-packages (from matplotlib>=3.3.0->ultralytics) (1.2.0)\n",
      "Requirement already satisfied: cycler>=0.10 in c:\\users\\fedep\\appdata\\local\\programs\\python\\python312\\lib\\site-packages (from matplotlib>=3.3.0->ultralytics) (0.10.0)\n",
      "Requirement already satisfied: fonttools>=4.22.0 in c:\\users\\fedep\\appdata\\local\\programs\\python\\python312\\lib\\site-packages (from matplotlib>=3.3.0->ultralytics) (4.44.0)\n",
      "Requirement already satisfied: kiwisolver>=1.3.1 in c:\\users\\fedep\\appdata\\local\\programs\\python\\python312\\lib\\site-packages (from matplotlib>=3.3.0->ultralytics) (1.4.5)\n",
      "Requirement already satisfied: numpy>=1.21 in c:\\users\\fedep\\appdata\\local\\programs\\python\\python312\\lib\\site-packages (from matplotlib>=3.3.0->ultralytics) (1.26.4)\n",
      "Requirement already satisfied: packaging>=20.0 in c:\\users\\fedep\\appdata\\local\\programs\\python\\python312\\lib\\site-packages (from matplotlib>=3.3.0->ultralytics) (23.2)\n",
      "Requirement already satisfied: pyparsing>=2.3.1 in c:\\users\\fedep\\appdata\\local\\programs\\python\\python312\\lib\\site-packages (from matplotlib>=3.3.0->ultralytics) (3.1.1)\n",
      "Requirement already satisfied: python-dateutil>=2.7 in c:\\users\\fedep\\appdata\\roaming\\python\\python312\\site-packages (from matplotlib>=3.3.0->ultralytics) (2.8.2)\n",
      "Requirement already satisfied: pytz>=2020.1 in c:\\users\\fedep\\appdata\\local\\programs\\python\\python312\\lib\\site-packages (from pandas>=1.1.4->ultralytics) (2023.3.post1)\n",
      "Requirement already satisfied: tzdata>=2022.1 in c:\\users\\fedep\\appdata\\local\\programs\\python\\python312\\lib\\site-packages (from pandas>=1.1.4->ultralytics) (2023.3)\n",
      "Requirement already satisfied: charset-normalizer<4,>=2 in c:\\users\\fedep\\appdata\\local\\programs\\python\\python312\\lib\\site-packages (from requests>=2.23.0->ultralytics) (3.3.2)\n",
      "Requirement already satisfied: idna<4,>=2.5 in c:\\users\\fedep\\appdata\\local\\programs\\python\\python312\\lib\\site-packages (from requests>=2.23.0->ultralytics) (2.10)\n",
      "Requirement already satisfied: urllib3<3,>=1.21.1 in c:\\users\\fedep\\appdata\\local\\programs\\python\\python312\\lib\\site-packages (from requests>=2.23.0->ultralytics) (2.2.1)\n",
      "Requirement already satisfied: certifi>=2017.4.17 in c:\\users\\fedep\\appdata\\local\\programs\\python\\python312\\lib\\site-packages (from requests>=2.23.0->ultralytics) (2023.7.22)\n",
      "Requirement already satisfied: filelock in c:\\users\\fedep\\appdata\\local\\programs\\python\\python312\\lib\\site-packages (from torch>=1.8.0->ultralytics) (3.13.3)\n",
      "Requirement already satisfied: typing-extensions>=4.8.0 in c:\\users\\fedep\\appdata\\local\\programs\\python\\python312\\lib\\site-packages (from torch>=1.8.0->ultralytics) (4.10.0)\n",
      "Requirement already satisfied: sympy in c:\\users\\fedep\\appdata\\local\\programs\\python\\python312\\lib\\site-packages (from torch>=1.8.0->ultralytics) (1.12)\n",
      "Requirement already satisfied: networkx in c:\\users\\fedep\\appdata\\local\\programs\\python\\python312\\lib\\site-packages (from torch>=1.8.0->ultralytics) (3.2.1)\n",
      "Requirement already satisfied: jinja2 in c:\\users\\fedep\\appdata\\local\\programs\\python\\python312\\lib\\site-packages (from torch>=1.8.0->ultralytics) (3.1.3)\n",
      "Requirement already satisfied: fsspec in c:\\users\\fedep\\appdata\\local\\programs\\python\\python312\\lib\\site-packages (from torch>=1.8.0->ultralytics) (2024.3.1)\n",
      "Requirement already satisfied: colorama in c:\\users\\fedep\\appdata\\roaming\\python\\python312\\site-packages (from tqdm>=4.64.0->ultralytics) (0.4.6)\n",
      "Requirement already satisfied: six in c:\\users\\fedep\\appdata\\local\\programs\\python\\python312\\lib\\site-packages (from cycler>=0.10->matplotlib>=3.3.0->ultralytics) (1.16.0)\n",
      "Requirement already satisfied: MarkupSafe>=2.0 in c:\\users\\fedep\\appdata\\local\\programs\\python\\python312\\lib\\site-packages (from jinja2->torch>=1.8.0->ultralytics) (2.1.5)\n",
      "Requirement already satisfied: mpmath>=0.19 in c:\\users\\fedep\\appdata\\local\\programs\\python\\python312\\lib\\site-packages (from sympy->torch>=1.8.0->ultralytics) (1.3.0)\n"
     ]
    },
    {
     "name": "stderr",
     "output_type": "stream",
     "text": [
      "WARNING: Ignoring invalid distribution ~atplotlib (C:\\Users\\fedep\\AppData\\Local\\Programs\\Python\\Python312\\Lib\\site-packages)\n",
      "WARNING: Ignoring invalid distribution ~atplotlib (C:\\Users\\fedep\\AppData\\Local\\Programs\\Python\\Python312\\Lib\\site-packages)\n",
      "WARNING: Ignoring invalid distribution ~atplotlib (C:\\Users\\fedep\\AppData\\Local\\Programs\\Python\\Python312\\Lib\\site-packages)\n",
      "\n",
      "[notice] A new release of pip is available: 24.2 -> 24.3.1\n",
      "[notice] To update, run: python.exe -m pip install --upgrade pip\n"
     ]
    },
    {
     "name": "stdout",
     "output_type": "stream",
     "text": [
      "Requirement already satisfied: wget in c:\\users\\fedep\\appdata\\local\\programs\\python\\python312\\lib\\site-packages (3.2)\n"
     ]
    },
    {
     "name": "stderr",
     "output_type": "stream",
     "text": [
      "WARNING: Ignoring invalid distribution ~atplotlib (C:\\Users\\fedep\\AppData\\Local\\Programs\\Python\\Python312\\Lib\\site-packages)\n",
      "WARNING: Ignoring invalid distribution ~atplotlib (C:\\Users\\fedep\\AppData\\Local\\Programs\\Python\\Python312\\Lib\\site-packages)\n",
      "WARNING: Ignoring invalid distribution ~atplotlib (C:\\Users\\fedep\\AppData\\Local\\Programs\\Python\\Python312\\Lib\\site-packages)\n",
      "\n",
      "[notice] A new release of pip is available: 24.2 -> 24.3.1\n",
      "[notice] To update, run: python.exe -m pip install --upgrade pip\n"
     ]
    }
   ],
   "source": [
    "!pip install ultralytics\n",
    "!pip install wget"
   ]
  },
  {
   "cell_type": "code",
   "execution_count": 4,
   "metadata": {},
   "outputs": [],
   "source": [
    "from pycocotools.coco import COCO # wrapper to get data from coco dataset\n",
    "import skimage.io as io\n",
    "import matplotlib.pyplot as plt\n",
    "import pandas as pd\n",
    "import numpy as np\n",
    "import random\n",
    "import os\n",
    "import wget\n",
    "from ultralytics import YOLO\n"
   ]
  },
  {
   "cell_type": "code",
   "execution_count": 5,
   "metadata": {},
   "outputs": [],
   "source": [
    "df = pd.read_csv('person_anns.csv')"
   ]
  },
  {
   "cell_type": "code",
   "execution_count": 6,
   "metadata": {},
   "outputs": [
    {
     "name": "stdout",
     "output_type": "stream",
     "text": [
      "58883\n"
     ]
    }
   ],
   "source": [
    "img_url_list = list(df['img_url'].unique())\n",
    "print(len(img_url_list))"
   ]
  },
  {
   "cell_type": "code",
   "execution_count": 71,
   "metadata": {},
   "outputs": [
    {
     "name": "stdout",
     "output_type": "stream",
     "text": [
      "5\n"
     ]
    }
   ],
   "source": [
    "random.seed(24)\n",
    "img_sample = random.sample(img_url_list, 5)\n",
    "print(len(img_sample))"
   ]
  },
  {
   "cell_type": "code",
   "execution_count": 72,
   "metadata": {},
   "outputs": [],
   "source": [
    "\n",
    "# Scarica tutte le immagini dalla lista\n",
    "old_cwd = os.getcwd()\n",
    "os.chdir(old_cwd+'/imgs')\n",
    "for url in img_sample:\n",
    "    try:\n",
    "        wget.download(url)\n",
    "    except Exception as e:\n",
    "        print(f\"\\nErrore nel download di {url}: {e}\")\n",
    "os.chdir(old_cwd)"
   ]
  },
  {
   "cell_type": "code",
   "execution_count": 73,
   "metadata": {},
   "outputs": [],
   "source": [
    "\n",
    "# Carica il modello pre-addestrato (puoi scegliere altri modelli come 'yolov8n.pt', 'yolov10.pt', ecc.)\n",
    "model = YOLO('yolov8n.pt')  # Usa il modello YOLOv8 Nano pre-addestrato\n"
   ]
  },
  {
   "cell_type": "code",
   "execution_count": 75,
   "metadata": {},
   "outputs": [
    {
     "name": "stdout",
     "output_type": "stream",
     "text": [
      "\n",
      "\n",
      "image 1/6 c:\\Users\\fedep\\OneDrive\\Desktop\\Universita'\\Year 2\\PER\\FemaleObjectificationInMovies\\imgs\\000000061822.jpg: 384x640 8 persons, 4 cars, 1 kite, 107.4ms\n",
      "image 1/6 c:\\Users\\fedep\\OneDrive\\Desktop\\Universita'\\Year 2\\PER\\FemaleObjectificationInMovies\\imgs\\000000061822.jpg: 384x640 8 persons, 4 cars, 1 kite, 107.4ms\n",
      "image 2/6 c:\\Users\\fedep\\OneDrive\\Desktop\\Universita'\\Year 2\\PER\\FemaleObjectificationInMovies\\imgs\\000000091057.jpg: 640x480 1 dog, 1 pizza, 209.7ms\n",
      "image 2/6 c:\\Users\\fedep\\OneDrive\\Desktop\\Universita'\\Year 2\\PER\\FemaleObjectificationInMovies\\imgs\\000000091057.jpg: 640x480 1 dog, 1 pizza, 209.7ms\n",
      "image 3/6 c:\\Users\\fedep\\OneDrive\\Desktop\\Universita'\\Year 2\\PER\\FemaleObjectificationInMovies\\imgs\\000000124615.jpg: 544x640 4 persons, 2 couchs, 4 remotes, 192.9ms\n",
      "image 3/6 c:\\Users\\fedep\\OneDrive\\Desktop\\Universita'\\Year 2\\PER\\FemaleObjectificationInMovies\\imgs\\000000124615.jpg: 544x640 4 persons, 2 couchs, 4 remotes, 192.9ms\n",
      "image 4/6 c:\\Users\\fedep\\OneDrive\\Desktop\\Universita'\\Year 2\\PER\\FemaleObjectificationInMovies\\imgs\\000000203201.jpg: 640x480 1 person, 1 baseball bat, 161.2ms\n",
      "image 4/6 c:\\Users\\fedep\\OneDrive\\Desktop\\Universita'\\Year 2\\PER\\FemaleObjectificationInMovies\\imgs\\000000203201.jpg: 640x480 1 person, 1 baseball bat, 161.2ms\n",
      "image 5/6 c:\\Users\\fedep\\OneDrive\\Desktop\\Universita'\\Year 2\\PER\\FemaleObjectificationInMovies\\imgs\\000000257297.jpg: 480x640 4 persons, 1 tv, 1 remote, 1 cell phone, 97.6ms\n",
      "image 5/6 c:\\Users\\fedep\\OneDrive\\Desktop\\Universita'\\Year 2\\PER\\FemaleObjectificationInMovies\\imgs\\000000257297.jpg: 480x640 4 persons, 1 tv, 1 remote, 1 cell phone, 97.6ms\n",
      "image 6/6 c:\\Users\\fedep\\OneDrive\\Desktop\\Universita'\\Year 2\\PER\\FemaleObjectificationInMovies\\imgs\\000000544264.jpg: 640x480 2 persons, 1 frisbee, 83.8ms\n",
      "image 6/6 c:\\Users\\fedep\\OneDrive\\Desktop\\Universita'\\Year 2\\PER\\FemaleObjectificationInMovies\\imgs\\000000544264.jpg: 640x480 2 persons, 1 frisbee, 83.8ms\n",
      "Speed: 2.2ms preprocess, 142.1ms inference, 1.6ms postprocess per image at shape (1, 3, 640, 480)\n",
      "Speed: 2.2ms preprocess, 142.1ms inference, 1.6ms postprocess per image at shape (1, 3, 640, 480)\n",
      "Results saved to \u001b[1mruns\\detect\\predict2\u001b[0m\n",
      "Results saved to \u001b[1mruns\\detect\\predict2\u001b[0m\n"
     ]
    }
   ],
   "source": [
    "result = model.predict(source=\"./imgs\", save=True)"
   ]
  },
  {
   "cell_type": "markdown",
   "metadata": {},
   "source": [
    "modificare img_id per tutte le entries"
   ]
  },
  {
   "cell_type": "code",
   "execution_count": null,
   "metadata": {},
   "outputs": [],
   "source": [
    "def confidence_score(result_img):\n",
    "    detection_list = []\n",
    "    for res in result_img:\n",
    "        detection_dict = {}\n",
    "        img_id = res.path.split('\\\\')[-1].strip('.jpg').lstrip('0')\n",
    "        detection_dict['Img_ID'] = img_id\n",
    "        # Get mask for class 0\n",
    "        class_mask = res.boxes.cls == 0\n",
    "        \n",
    "        # Get all relevant data in one go\n",
    "        confidences = res.boxes.conf[class_mask]\n",
    "        dimensions = res.boxes.xywhn[class_mask]\n",
    "        \n",
    "        # Print results using zip to iterate both arrays simultaneously\n",
    "        for index, (conf, dim) in enumerate(zip(confidences, dimensions)):\n",
    "            detection_dict['Confidence'] = conf.item()\n",
    "            detection_dict['Dimensions'] = dim\n",
    "            detection_dict['ID'] = f'{img_id}{index}'\n",
    "            detection_list.append(detection_dict)    \n",
    "    print(detection_list)    "
   ]
  },
  {
   "cell_type": "code",
   "execution_count": 80,
   "metadata": {},
   "outputs": [
    {
     "name": "stdout",
     "output_type": "stream",
     "text": [
      "c:\\Users\\fedep\\OneDrive\\Desktop\\Universita'\\Year 2\\PER\\FemaleObjectificationInMovies\\imgs\\000000091057.jpg\n"
     ]
    }
   ],
   "source": [
    "print(result[1].path)"
   ]
  },
  {
   "cell_type": "code",
   "execution_count": 105,
   "metadata": {},
   "outputs": [
    {
     "name": "stdout",
     "output_type": "stream",
     "text": [
      "[{'Img_ID': '61822', 'Confidence': 0.2536027431488037, 'Dimensions': tensor([0.4707, 0.6867, 0.0142, 0.0801]), 'ID': '618227'}, {'Img_ID': '91057'}, {'Img_ID': '124615', 'Confidence': 0.6433322429656982, 'Dimensions': tensor([0.7411, 0.8848, 0.2185, 0.2234]), 'ID': '1246153'}, {'Img_ID': '203201', 'Confidence': 0.9247285723686218, 'Dimensions': tensor([0.3509, 0.6135, 0.4268, 0.6710]), 'ID': '2032010'}, {'Img_ID': '257297', 'Confidence': 0.8036516904830933, 'Dimensions': tensor([0.9371, 0.5801, 0.1255, 0.5948]), 'ID': '2572973'}, {'Img_ID': '544264', 'Confidence': 0.8527050018310547, 'Dimensions': tensor([0.7203, 0.5075, 0.2557, 0.3685]), 'ID': '5442641'}]\n"
     ]
    }
   ],
   "source": [
    "confidence_score(result)"
   ]
  }
 ],
 "metadata": {
  "kernelspec": {
   "display_name": "Python 3",
   "language": "python",
   "name": "python3"
  },
  "language_info": {
   "codemirror_mode": {
    "name": "ipython",
    "version": 3
   },
   "file_extension": ".py",
   "mimetype": "text/x-python",
   "name": "python",
   "nbconvert_exporter": "python",
   "pygments_lexer": "ipython3",
   "version": "3.12.4"
  }
 },
 "nbformat": 4,
 "nbformat_minor": 2
}
