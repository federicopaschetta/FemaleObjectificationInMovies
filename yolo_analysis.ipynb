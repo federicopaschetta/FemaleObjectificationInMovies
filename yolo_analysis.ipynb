{
 "cells": [
  {
   "cell_type": "markdown",
   "metadata": {},
   "source": [
    "## Importing libraries"
   ]
  },
  {
   "cell_type": "code",
   "execution_count": 243,
   "metadata": {},
   "outputs": [],
   "source": [
    "import pandas as pd # to store data efficiently\n",
    "import numpy as np # to handle numerical operations\n",
    "from tqdm import tqdm # to visualize loop progressions\n",
    "import matplotlib.pyplot as plt\n",
    "import seaborn as sns\n"
   ]
  },
  {
   "cell_type": "markdown",
   "metadata": {},
   "source": [
    "## Getting images list with people from COCO dataset"
   ]
  },
  {
   "cell_type": "code",
   "execution_count": 244,
   "metadata": {},
   "outputs": [],
   "source": [
    "df_names = ['All', 'Top25', 'Top50', 'Top75', 'Side25', 'Side50', 'Side75']"
   ]
  },
  {
   "cell_type": "code",
   "execution_count": 245,
   "metadata": {},
   "outputs": [],
   "source": [
    "all_predictions_df = pd.read_csv('./data/yolo_prediction/All.csv')\n",
    "all_anns_df = pd.read_csv('./data/coco_diff/All.csv')\n",
    "single_anns_df = pd.read_csv('./data/coco_diff/single_anns/person_anns.csv')"
   ]
  },
  {
   "cell_type": "code",
   "execution_count": 246,
   "metadata": {},
   "outputs": [],
   "source": [
    "predictions_df_list = []\n",
    "anns_df_list = []\n",
    "for name in df_names:\n",
    "    predictions_df_list.append(pd.read_csv(f'./data/yolo_prediction/{name}.csv'))\n",
    "    anns_df_list.append(pd.read_csv(f'./data/coco_diff/{name}.csv'))"
   ]
  },
  {
   "cell_type": "code",
   "execution_count": 247,
   "metadata": {},
   "outputs": [
    {
     "data": {
      "text/plain": [
       "<Axes: >"
      ]
     },
     "execution_count": 247,
     "metadata": {},
     "output_type": "execute_result"
    },
    {
     "data": {
      "image/png": "[encoded data removed]",
      "text/plain": [
       "<Figure size 640x480 with 1 Axes>"
      ]
     },
     "metadata": {},
     "output_type": "display_data"
    }
   ],
   "source": [
    "all_anns_df['total_dif'].hist(bins=1000)"
   ]
  },
  {
   "cell_type": "markdown",
   "metadata": {},
   "source": [
    "Looking at the distribution, I can suggest three difficulty labels:\n",
    "- Easy: images whose total_diff value is minor than 0.5\n",
    "- Medium: images whose total_diff value is between 0.5 and 0.7\n",
    "- Hard: images whose total_diff value is between 0.7 and 0.8\n",
    "- Very Hard: images whose total_diff value is greater than 0.8"
   ]
  },
  {
   "cell_type": "code",
   "execution_count": 248,
   "metadata": {},
   "outputs": [],
   "source": [
    "data = all_anns_df['total_dif'].sort_values()\n",
    "easy = 0.5\n",
    "medium = 0.7\n",
    "hard = 0.8\n",
    "easy_percent = float((data < easy).mean() * 100)\n",
    "medium_percent = float(((data >= easy) & (data < medium)).mean() * 100)\n",
    "hard_percent = float(((data >= medium) & (data < hard)).mean() * 100)\n",
    "very_hard_percent = float((data >= hard).mean() * 100)"
   ]
  },
  {
   "cell_type": "code",
   "execution_count": 249,
   "metadata": {},
   "outputs": [
    {
     "name": "stdout",
     "output_type": "stream",
     "text": [
      "27.413684764702882\n",
      "40.56688687736698\n",
      "23.123821816143877\n",
      "8.895606541786254\n"
     ]
    }
   ],
   "source": [
    "print(easy_percent)\n",
    "print(medium_percent)\n",
    "print(hard_percent)\n",
    "print(very_hard_percent)"
   ]
  },
  {
   "cell_type": "markdown",
   "metadata": {},
   "source": [
    "Here it's possible to see the percentiles the given value belong to. With this labeling we will have approximately the 27% of the data being considered as _easy_, 41% of the data considered as _medium_, 23% of the data considered as _hard_,  and 9% of the data being considered as _very hard_. "
   ]
  },
  {
   "cell_type": "code",
   "execution_count": 252,
   "metadata": {},
   "outputs": [],
   "source": [
    "def apply_total_dif_labeling(df, col):\n",
    "    conditions = [\n",
    "        (df[f'{col}'] < 0.4),\n",
    "        (df[f'{col}'] > 0.85),\n",
    "        (df[f'{col}'] > 0.6) & (df[f'{col}'] <= 0.85),\n",
    "        (df[f'{col}'] >= 0.4) & (df[f'{col}'] <= 0.6)\n",
    "    ]\n",
    "    choices = ['easy', 'very hard', 'hard', 'medium']\n",
    "    df['label'] = np.select(conditions, choices, default='unknown')\n",
    "    return df"
   ]
  },
  {
   "cell_type": "code",
   "execution_count": 253,
   "metadata": {},
   "outputs": [],
   "source": [
    "all_anns_df = apply_total_dif_labeling(all_anns_df, 'total_dif')"
   ]
  },
  {
   "cell_type": "markdown",
   "metadata": {},
   "source": [
    "## Precision"
   ]
  },
  {
   "cell_type": "code",
   "execution_count": 254,
   "metadata": {},
   "outputs": [],
   "source": [
    "def detect_on_threshold(df, threshold):\n",
    "    df['detected'] = df['Confidence'].apply(lambda x: 1 if x>=threshold else 0)"
   ]
  },
  {
   "cell_type": "code",
   "execution_count": 255,
   "metadata": {},
   "outputs": [],
   "source": [
    "detect_on_threshold(all_predictions_df, 0.5)"
   ]
  },
  {
   "cell_type": "markdown",
   "metadata": {},
   "source": [
    "## Grouping"
   ]
  },
  {
   "cell_type": "code",
   "execution_count": 256,
   "metadata": {},
   "outputs": [],
   "source": [
    "grouped_predictions_df = all_predictions_df.groupby('Img_ID').agg(\n",
    "    {\n",
    "        'Confidence': 'mean',\n",
    "        'detected': 'sum',\n",
    "    }\n",
    ")"
   ]
  },
  {
   "cell_type": "code",
   "execution_count": 257,
   "metadata": {},
   "outputs": [],
   "source": [
    "df_out = pd.merge(all_anns_df, grouped_predictions_df, how='inner', left_on='Img', right_on='Img_ID')\n",
    "df_out.set_index('Img', inplace=True)\n",
    "df_out = df_out[['Confidence', 'label', 'detected', 'num_people']]"
   ]
  },
  {
   "cell_type": "code",
   "execution_count": null,
   "metadata": {},
   "outputs": [],
   "source": [
    "def adding_precision_feature(df):\n",
    "    df['accuracy'] = df['detected']/df['num_people']"
   ]
  },
  {
   "cell_type": "code",
   "execution_count": 274,
   "metadata": {},
   "outputs": [],
   "source": [
    "def adding_metrics_features(df):\n",
    "    df['mae'] = np.abs(df['num_people']-df['detected'])\n",
    "    df['mse'] = (df['num_people']-df['detected'])**2\n",
    "    df['correct'] =(df['detected'] == df['num_people']).astype(int)"
   ]
  },
  {
   "cell_type": "code",
   "execution_count": 275,
   "metadata": {},
   "outputs": [],
   "source": [
    "adding_precision_feature(df_out)\n",
    "adding_metrics_features(df_out)"
   ]
  },
  {
   "cell_type": "code",
   "execution_count": 276,
   "metadata": {},
   "outputs": [
    {
     "data": {
      "text/html": [
       "<div>\n",
       "<style scoped>\n",
       "    .dataframe tbody tr th:only-of-type {\n",
       "        vertical-align: middle;\n",
       "    }\n",
       "\n",
       "    .dataframe tbody tr th {\n",
       "        vertical-align: top;\n",
       "    }\n",
       "\n",
       "    .dataframe thead th {\n",
       "        text-align: right;\n",
       "    }\n",
       "</style>\n",
       "<table border=\"1\" class=\"dataframe\">\n",
       "  <thead>\n",
       "    <tr style=\"text-align: right;\">\n",
       "      <th></th>\n",
       "      <th>Confidence</th>\n",
       "      <th>label</th>\n",
       "      <th>detected</th>\n",
       "      <th>num_people</th>\n",
       "      <th>accuracy</th>\n",
       "      <th>mae</th>\n",
       "      <th>mse</th>\n",
       "      <th>correct</th>\n",
       "    </tr>\n",
       "    <tr>\n",
       "      <th>Img</th>\n",
       "      <th></th>\n",
       "      <th></th>\n",
       "      <th></th>\n",
       "      <th></th>\n",
       "      <th></th>\n",
       "      <th></th>\n",
       "      <th></th>\n",
       "      <th></th>\n",
       "    </tr>\n",
       "  </thead>\n",
       "  <tbody>\n",
       "    <tr>\n",
       "      <th>326</th>\n",
       "      <td>0.866764</td>\n",
       "      <td>medium</td>\n",
       "      <td>1</td>\n",
       "      <td>1</td>\n",
       "      <td>1.00</td>\n",
       "      <td>0</td>\n",
       "      <td>0</td>\n",
       "      <td>1</td>\n",
       "    </tr>\n",
       "    <tr>\n",
       "      <th>1149</th>\n",
       "      <td>0.607025</td>\n",
       "      <td>hard</td>\n",
       "      <td>9</td>\n",
       "      <td>12</td>\n",
       "      <td>0.75</td>\n",
       "      <td>3</td>\n",
       "      <td>9</td>\n",
       "      <td>0</td>\n",
       "    </tr>\n",
       "    <tr>\n",
       "      <th>1200</th>\n",
       "      <td>0.739418</td>\n",
       "      <td>hard</td>\n",
       "      <td>3</td>\n",
       "      <td>3</td>\n",
       "      <td>1.00</td>\n",
       "      <td>0</td>\n",
       "      <td>0</td>\n",
       "      <td>1</td>\n",
       "    </tr>\n",
       "    <tr>\n",
       "      <th>1319</th>\n",
       "      <td>0.431452</td>\n",
       "      <td>medium</td>\n",
       "      <td>0</td>\n",
       "      <td>1</td>\n",
       "      <td>0.00</td>\n",
       "      <td>1</td>\n",
       "      <td>1</td>\n",
       "      <td>0</td>\n",
       "    </tr>\n",
       "    <tr>\n",
       "      <th>1900</th>\n",
       "      <td>0.000000</td>\n",
       "      <td>hard</td>\n",
       "      <td>0</td>\n",
       "      <td>1</td>\n",
       "      <td>0.00</td>\n",
       "      <td>1</td>\n",
       "      <td>1</td>\n",
       "      <td>0</td>\n",
       "    </tr>\n",
       "    <tr>\n",
       "      <th>...</th>\n",
       "      <td>...</td>\n",
       "      <td>...</td>\n",
       "      <td>...</td>\n",
       "      <td>...</td>\n",
       "      <td>...</td>\n",
       "      <td>...</td>\n",
       "      <td>...</td>\n",
       "      <td>...</td>\n",
       "    </tr>\n",
       "    <tr>\n",
       "      <th>579891</th>\n",
       "      <td>0.909920</td>\n",
       "      <td>medium</td>\n",
       "      <td>1</td>\n",
       "      <td>1</td>\n",
       "      <td>1.00</td>\n",
       "      <td>0</td>\n",
       "      <td>0</td>\n",
       "      <td>1</td>\n",
       "    </tr>\n",
       "    <tr>\n",
       "      <th>580781</th>\n",
       "      <td>0.841013</td>\n",
       "      <td>medium</td>\n",
       "      <td>1</td>\n",
       "      <td>1</td>\n",
       "      <td>1.00</td>\n",
       "      <td>0</td>\n",
       "      <td>0</td>\n",
       "      <td>1</td>\n",
       "    </tr>\n",
       "    <tr>\n",
       "      <th>581183</th>\n",
       "      <td>0.605279</td>\n",
       "      <td>hard</td>\n",
       "      <td>3</td>\n",
       "      <td>12</td>\n",
       "      <td>0.25</td>\n",
       "      <td>9</td>\n",
       "      <td>81</td>\n",
       "      <td>0</td>\n",
       "    </tr>\n",
       "    <tr>\n",
       "      <th>581278</th>\n",
       "      <td>0.803501</td>\n",
       "      <td>easy</td>\n",
       "      <td>1</td>\n",
       "      <td>1</td>\n",
       "      <td>1.00</td>\n",
       "      <td>0</td>\n",
       "      <td>0</td>\n",
       "      <td>1</td>\n",
       "    </tr>\n",
       "    <tr>\n",
       "      <th>581557</th>\n",
       "      <td>0.801042</td>\n",
       "      <td>medium</td>\n",
       "      <td>1</td>\n",
       "      <td>1</td>\n",
       "      <td>1.00</td>\n",
       "      <td>0</td>\n",
       "      <td>0</td>\n",
       "      <td>1</td>\n",
       "    </tr>\n",
       "  </tbody>\n",
       "</table>\n",
       "<p>2001 rows × 8 columns</p>\n",
       "</div>"
      ],
      "text/plain": [
       "        Confidence   label  detected  num_people  accuracy  mae  mse  correct\n",
       "Img                                                                          \n",
       "326       0.866764  medium         1           1      1.00    0    0        1\n",
       "1149      0.607025    hard         9          12      0.75    3    9        0\n",
       "1200      0.739418    hard         3           3      1.00    0    0        1\n",
       "1319      0.431452  medium         0           1      0.00    1    1        0\n",
       "1900      0.000000    hard         0           1      0.00    1    1        0\n",
       "...            ...     ...       ...         ...       ...  ...  ...      ...\n",
       "579891    0.909920  medium         1           1      1.00    0    0        1\n",
       "580781    0.841013  medium         1           1      1.00    0    0        1\n",
       "581183    0.605279    hard         3          12      0.25    9   81        0\n",
       "581278    0.803501    easy         1           1      1.00    0    0        1\n",
       "581557    0.801042  medium         1           1      1.00    0    0        1\n",
       "\n",
       "[2001 rows x 8 columns]"
      ]
     },
     "execution_count": 276,
     "metadata": {},
     "output_type": "execute_result"
    }
   ],
   "source": [
    "df_out"
   ]
  },
  {
   "cell_type": "markdown",
   "metadata": {},
   "source": [
    "### Plotting"
   ]
  },
  {
   "cell_type": "code",
   "execution_count": 287,
   "metadata": {},
   "outputs": [],
   "source": [
    "def plot_grouped_boxplot(df, feature):\n",
    "    plt.figure(figsize=(8, 6))\n",
    "    custom_palette = {\n",
    "        'easy': 'yellow',\n",
    "        'medium': 'orange',\n",
    "        'hard': 'red',\n",
    "        'very hard': 'purple'\n",
    "    }\n",
    "\n",
    "    label_order = ['easy', 'medium', 'hard', 'very hard']\n",
    "\n",
    "\n",
    "    sns.boxplot(data=df, x='label', y=feature, hue='label', palette=custom_palette, dodge=False, legend=False, order=label_order)\n",
    "    plt.title(f\"Boxplot of {feature} by Label\")\n",
    "    plt.xlabel(\"Label\")\n",
    "    plt.ylabel(f\"{feature}\")\n",
    "\n",
    "    plt.show()"
   ]
  },
  {
   "cell_type": "code",
   "execution_count": 288,
   "metadata": {},
   "outputs": [
    {
     "data": {
      "image/png": "[encoded data removed]",
      "text/plain": [
       "<Figure size 800x600 with 1 Axes>"
      ]
     },
     "metadata": {},
     "output_type": "display_data"
    }
   ],
   "source": [
    "plot_grouped_boxplot(df_out, 'Confidence')"
   ]
  },
  {
   "cell_type": "code",
   "execution_count": 289,
   "metadata": {},
   "outputs": [
    {
     "data": {
      "text/html": [
       "<div>\n",
       "<style scoped>\n",
       "    .dataframe tbody tr th:only-of-type {\n",
       "        vertical-align: middle;\n",
       "    }\n",
       "\n",
       "    .dataframe tbody tr th {\n",
       "        vertical-align: top;\n",
       "    }\n",
       "\n",
       "    .dataframe thead th {\n",
       "        text-align: right;\n",
       "    }\n",
       "</style>\n",
       "<table border=\"1\" class=\"dataframe\">\n",
       "  <thead>\n",
       "    <tr style=\"text-align: right;\">\n",
       "      <th></th>\n",
       "      <th>mae</th>\n",
       "      <th>mse</th>\n",
       "      <th>correct</th>\n",
       "      <th>rmse</th>\n",
       "    </tr>\n",
       "    <tr>\n",
       "      <th>label</th>\n",
       "      <th></th>\n",
       "      <th></th>\n",
       "      <th></th>\n",
       "      <th></th>\n",
       "    </tr>\n",
       "  </thead>\n",
       "  <tbody>\n",
       "    <tr>\n",
       "      <th>easy</th>\n",
       "      <td>0.033113</td>\n",
       "      <td>0.033113</td>\n",
       "      <td>0.966887</td>\n",
       "      <td>0.181969</td>\n",
       "    </tr>\n",
       "    <tr>\n",
       "      <th>hard</th>\n",
       "      <td>2.103483</td>\n",
       "      <td>1.144898</td>\n",
       "      <td>0.279602</td>\n",
       "      <td>1.069999</td>\n",
       "    </tr>\n",
       "    <tr>\n",
       "      <th>medium</th>\n",
       "      <td>0.167079</td>\n",
       "      <td>0.151921</td>\n",
       "      <td>0.857673</td>\n",
       "      <td>0.389771</td>\n",
       "    </tr>\n",
       "    <tr>\n",
       "      <th>very hard</th>\n",
       "      <td>5.567568</td>\n",
       "      <td>2.265216</td>\n",
       "      <td>0.000000</td>\n",
       "      <td>1.505063</td>\n",
       "    </tr>\n",
       "  </tbody>\n",
       "</table>\n",
       "</div>"
      ],
      "text/plain": [
       "                mae       mse   correct      rmse\n",
       "label                                            \n",
       "easy       0.033113  0.033113  0.966887  0.181969\n",
       "hard       2.103483  1.144898  0.279602  1.069999\n",
       "medium     0.167079  0.151921  0.857673  0.389771\n",
       "very hard  5.567568  2.265216  0.000000  1.505063"
      ]
     },
     "execution_count": 289,
     "metadata": {},
     "output_type": "execute_result"
    }
   ],
   "source": [
    "label_grouped = df_out.groupby('label').agg(\n",
    "    {\n",
    "        'mae': 'mean',\n",
    "        'mse': 'mean',\n",
    "        'correct': 'mean'\n",
    "    }\n",
    ")\n",
    "\n",
    "label_grouped['rmse'] = np.sqrt(label_grouped['mse'])\n",
    "label_grouped"
   ]
  },
  {
   "cell_type": "code",
   "execution_count": 290,
   "metadata": {},
   "outputs": [
    {
     "data": {
      "image/png": "[encoded data removed]",
      "text/plain": [
       "<Figure size 800x600 with 1 Axes>"
      ]
     },
     "metadata": {},
     "output_type": "display_data"
    }
   ],
   "source": [
    "plot_grouped_boxplot(df_out, 'correct')"
   ]
  }
 ],
 "metadata": {
  "kernelspec": {
   "display_name": "objWoman",
   "language": "python",
   "name": "python3"
  },
  "language_info": {
   "codemirror_mode": {
    "name": "ipython",
    "version": 3
   },
   "file_extension": ".py",
   "mimetype": "text/x-python",
   "name": "python",
   "nbconvert_exporter": "python",
   "pygments_lexer": "ipython3",
   "version": "3.12.4"
  }
 },
 "nbformat": 4,
 "nbformat_minor": 2
}
