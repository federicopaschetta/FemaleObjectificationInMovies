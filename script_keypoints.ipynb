{
 "cells": [
  {
   "cell_type": "code",
   "execution_count": 3,
   "metadata": {},
   "outputs": [],
   "source": [
    "from pycocotools.coco import COCO\n",
    "import numpy as np\n",
    "import pandas as pd\n",
    "import matplotlib.pyplot as plt\n",
    "import time"
   ]
  },
  {
   "cell_type": "code",
   "execution_count": 2,
   "metadata": {},
   "outputs": [],
   "source": [
    "def get_person_annotations(img_id, coco):\n",
    "    \"\"\"\n",
    "    Estrae tutte le annotazioni di tipo 'person' per una data immagine.\n",
    "    Get all annotations of Person objects for a given image\n",
    "    \n",
    "    Args:\n",
    "        img_id: COCO dataset image ID\n",
    "        coco: COCO API instance\n",
    "    \n",
    "    Returns:\n",
    "        Person objects annotations dictionaries list\n",
    "    \"\"\"    \n",
    "    ann_ids = coco.getAnnIds(imgIds=img_id)\n",
    "    annotations = coco.loadAnns(ann_ids)\n",
    "    \n",
    "    return annotations"
   ]
  },
  {
   "cell_type": "code",
   "execution_count": 4,
   "metadata": {},
   "outputs": [],
   "source": [
    "def process_coco_dataset(annotation_file):\n",
    "    \"\"\"\n",
    "    Processes whole COCO dataset and extracts all Person type annotations.\n",
    "    \n",
    "    Args:\n",
    "        annotation_file: COCO annotations file path\n",
    "        \n",
    "    Returns:\n",
    "        Dictionary with img_id as key and annotations list as value\n",
    "    \"\"\"\n",
    "    coco = COCO(annotation_file)\n",
    "    \n",
    "    img_ids = coco.getImgIds()\n",
    "    \n",
    "    results = {}\n",
    "    \n",
    "    for img_id in img_ids:\n",
    "        print(img_id)\n",
    "        time.sleep(1)\n",
    "        person_annotations = get_person_annotations(img_id, coco)\n",
    "        if person_annotations: \n",
    "            results[img_id] = {\n",
    "                'image_info': coco.loadImgs(img_id)[0],\n",
    "                'annotations': person_annotations\n",
    "            }\n",
    "    \n",
    "    return results"
   ]
  },
  {
   "cell_type": "code",
   "execution_count": null,
   "metadata": {},
   "outputs": [],
   "source": [
    "import json\n",
    "annotation_file = 'person_keypoints_train2017.json'\n",
    "with open(annotation_file, 'r') as file:\n",
    "    data = json.load(file)\n",
    "    fields = data.keys()"
   ]
  },
  {
   "cell_type": "code",
   "execution_count": 11,
   "metadata": {},
   "outputs": [
    {
     "data": {
      "text/plain": [
       "dict_keys(['info', 'licenses', 'images', 'annotations', 'categories'])"
      ]
     },
     "execution_count": 11,
     "metadata": {},
     "output_type": "execute_result"
    }
   ],
   "source": [
    "fields"
   ]
  },
  {
   "cell_type": "code",
   "execution_count": null,
   "metadata": {},
   "outputs": [
    {
     "data": {
      "text/plain": [
       "{'segmentation': [[267.03,\n",
       "   243.78,\n",
       "   314.59,\n",
       "   154.05,\n",
       "   357.84,\n",
       "   136.76,\n",
       "   374.05,\n",
       "   104.32,\n",
       "   410.81,\n",
       "   110.81,\n",
       "   429.19,\n",
       "   131.35,\n",
       "   420.54,\n",
       "   165.95,\n",
       "   451.89,\n",
       "   209.19,\n",
       "   464.86,\n",
       "   240.54,\n",
       "   480,\n",
       "   253.51,\n",
       "   484.32,\n",
       "   263.24,\n",
       "   496.22,\n",
       "   271.89,\n",
       "   484.32,\n",
       "   278.38,\n",
       "   438.92,\n",
       "   257.84,\n",
       "   401.08,\n",
       "   216.76,\n",
       "   370.81,\n",
       "   247.03,\n",
       "   414.05,\n",
       "   277.3,\n",
       "   433.51,\n",
       "   304.32,\n",
       "   443.24,\n",
       "   323.78,\n",
       "   400,\n",
       "   362.7,\n",
       "   376.22,\n",
       "   375.68,\n",
       "   400,\n",
       "   418.92,\n",
       "   394.59,\n",
       "   424.32,\n",
       "   337.3,\n",
       "   382.16,\n",
       "   337.3,\n",
       "   371.35,\n",
       "   388.11,\n",
       "   327.03,\n",
       "   341.62,\n",
       "   301.08,\n",
       "   311.35,\n",
       "   276.22,\n",
       "   304.86,\n",
       "   263.24,\n",
       "   294.05,\n",
       "   249.19]],\n",
       " 'num_keypoints': 8,\n",
       " 'area': 28292.08625,\n",
       " 'iscrowd': 0,\n",
       " 'keypoints': [0,\n",
       "  0,\n",
       "  0,\n",
       "  0,\n",
       "  0,\n",
       "  0,\n",
       "  0,\n",
       "  0,\n",
       "  0,\n",
       "  0,\n",
       "  0,\n",
       "  0,\n",
       "  0,\n",
       "  0,\n",
       "  0,\n",
       "  325,\n",
       "  160,\n",
       "  2,\n",
       "  398,\n",
       "  177,\n",
       "  2,\n",
       "  0,\n",
       "  0,\n",
       "  0,\n",
       "  437,\n",
       "  238,\n",
       "  2,\n",
       "  0,\n",
       "  0,\n",
       "  0,\n",
       "  477,\n",
       "  270,\n",
       "  2,\n",
       "  287,\n",
       "  255,\n",
       "  1,\n",
       "  339,\n",
       "  267,\n",
       "  2,\n",
       "  0,\n",
       "  0,\n",
       "  0,\n",
       "  423,\n",
       "  314,\n",
       "  2,\n",
       "  0,\n",
       "  0,\n",
       "  0,\n",
       "  355,\n",
       "  367,\n",
       "  2],\n",
       " 'image_id': 537548,\n",
       " 'bbox': [267.03, 104.32, 229.19, 320],\n",
       " 'category_id': 1,\n",
       " 'id': 183020}"
      ]
     },
     "execution_count": 39,
     "metadata": {},
     "output_type": "execute_result"
    }
   ],
   "source": [
    "(data['annotations'][0])"
   ]
  },
  {
   "cell_type": "code",
   "execution_count": 20,
   "metadata": {},
   "outputs": [
    {
     "data": {
      "text/plain": [
       "['nose',\n",
       " 'left_eye',\n",
       " 'right_eye',\n",
       " 'left_ear',\n",
       " 'right_ear',\n",
       " 'left_shoulder',\n",
       " 'right_shoulder',\n",
       " 'left_elbow',\n",
       " 'right_elbow',\n",
       " 'left_wrist',\n",
       " 'right_wrist',\n",
       " 'left_hip',\n",
       " 'right_hip',\n",
       " 'left_knee',\n",
       " 'right_knee',\n",
       " 'left_ankle',\n",
       " 'right_ankle']"
      ]
     },
     "execution_count": 20,
     "metadata": {},
     "output_type": "execute_result"
    }
   ],
   "source": [
    "(data['categories'][0]['keypoints'])"
   ]
  },
  {
   "cell_type": "code",
   "execution_count": 21,
   "metadata": {},
   "outputs": [
    {
     "data": {
      "text/plain": [
       "[[16, 14],\n",
       " [14, 12],\n",
       " [17, 15],\n",
       " [15, 13],\n",
       " [12, 13],\n",
       " [6, 12],\n",
       " [7, 13],\n",
       " [6, 7],\n",
       " [6, 8],\n",
       " [7, 9],\n",
       " [8, 10],\n",
       " [9, 11],\n",
       " [2, 3],\n",
       " [1, 2],\n",
       " [1, 3],\n",
       " [2, 4],\n",
       " [3, 5],\n",
       " [4, 6],\n",
       " [5, 7]]"
      ]
     },
     "execution_count": 21,
     "metadata": {},
     "output_type": "execute_result"
    }
   ],
   "source": [
    "(data['categories'][0]['skeleton'])"
   ]
  }
 ],
 "metadata": {
  "kernelspec": {
   "display_name": "Python 3",
   "language": "python",
   "name": "python3"
  },
  "language_info": {
   "codemirror_mode": {
    "name": "ipython",
    "version": 3
   },
   "file_extension": ".py",
   "mimetype": "text/x-python",
   "name": "python",
   "nbconvert_exporter": "python",
   "pygments_lexer": "ipython3",
   "version": "3.12.4"
  }
 },
 "nbformat": 4,
 "nbformat_minor": 2
}
